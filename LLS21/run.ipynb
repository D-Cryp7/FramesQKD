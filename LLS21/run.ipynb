{
 "cells": [
  {
   "cell_type": "raw",
   "id": "ded767af-f793-43e2-9911-0f5e1c857d94",
   "metadata": {
    "jupyter": {
     "source_hidden": true
    }
   },
   "source": [
    "for key in USABLE_FRAMES.keys():\n",
    "    for base in MATCHING_RESULTS.keys():\n",
    "        SS = {\n",
    "            \"X\": 0,\n",
    "            \"Z\": 0\n",
    "        }\n",
    "        for i in range(len(key)):\n",
    "            if base[i] == \"X\":\n",
    "                bit = int(key[i].split(\",\")[0][0])\n",
    "            else:\n",
    "                bit = int(key[i].split(\",\")[1][0])\n",
    "                \n",
    "            SS[base[i]] ^= bit\n",
    "\n",
    "        ss = ''.join(map(str, SS.values()))\n",
    "        \n",
    "        if base == (\"X\", \"X\", \"X\") or base == (\"Z\", \"Z\", \"Z\") or base == (\"X\", \"Z\", \"X\") or base == (\"Z\", \"X\", \"Z\"):\n",
    "            ss += \"0\"\n",
    "        else:\n",
    "            ss += \"1\"\n",
    "\n",
    "        MATCHING_RESULTS_DERIVATION[USABLE_FRAMES[key]][ss] = MATCHING_RESULTS[base]"
   ]
  },
  {
   "cell_type": "code",
   "execution_count": 1,
   "id": "4cacaead-daf3-41c7-ac24-a90b15138eea",
   "metadata": {},
   "outputs": [],
   "source": [
    "from random import randint\n",
    "import pandas as pd\n",
    "import sys\n",
    "\n",
    "from alice import Alice\n",
    "from bob import Bob\n",
    "\n",
    "from partial_key_recovery import attack\n",
    "\n",
    "sys.path.append('..')\n",
    "\n",
    "from metrics import key_recovery_metrics\n",
    "from qkd import execute_qkd"
   ]
  },
  {
   "cell_type": "code",
   "execution_count": 13,
   "id": "73a1be96-f691-4b6a-aa40-3e9f4e76e9bd",
   "metadata": {},
   "outputs": [
    {
     "name": "stdout",
     "output_type": "stream",
     "text": [
      "Key exchange completed, here's the data:\n",
      "Alice send pairs: {0: '1x,1z', 1: '1x,0z', 2: '0x,1z', 3: '1x,0z', 4: '1x,1z', 5: '1x,0z', 6: '1x,1z', 7: '1x,1z', 8: '0x,0z', 9: '1x,1z', 10: '0x,0z', 11: '1x,1z', 12: '1x,1z', 13: '1x,1z', 14: '0x,0z', 15: '0x,1z'}\n",
      "Bob send double matchings: [0, 4, 5, 8, 9, 13, 14, 15]\n",
      "Alice send usable frames: [(0, 4, 5), (0, 4, 15), (0, 5, 8), (0, 5, 14), (0, 9, 15), (0, 13, 15), (4, 5, 8), (4, 5, 14), (4, 9, 15), (4, 13, 15), (5, 9, 13), (5, 9, 14), (5, 13, 14), (8, 9, 15), (8, 13, 15), (9, 13, 15)]\n",
      "Bob send sifting string: ['101', '001', '111', '111', '111', '001', '111', '111', '111', '001', '011', '000', '110', '100', '010', '110']\n",
      "Bob send measured string: ['111', '110', '110', '110', '110', '110', '110', '110', '110', '110', '111', '110', '110', '010', '010', '110']\n",
      "Bob shared key: 101101111111111101111111111101100000010000010010\n",
      "Alice shared key: 101101111111111101111111111101100000010000010010\n"
     ]
    }
   ],
   "source": [
    "public, private = execute_qkd(Alice, Bob, 16, DEBUG = True)"
   ]
  },
  {
   "cell_type": "code",
   "execution_count": 8,
   "id": "e9f78a00-1048-41bd-b254-a0d5b3cc9364",
   "metadata": {},
   "outputs": [
    {
     "data": {
      "text/plain": [
       "{'double_matchings': [3, 5, 10, 11, 13, 15],\n",
       " 'bits_recovered': 21,\n",
       " 'bits': 27,\n",
       " '%': 0.7777777777777778,\n",
       " 'SS_left': ['010,001', '010,001']}"
      ]
     },
     "execution_count": 8,
     "metadata": {},
     "output_type": "execute_result"
    }
   ],
   "source": [
    "VALID_SS = [\n",
    "    \"111,110\",\n",
    "    \"111,011\",\n",
    "    \"110,110\",\n",
    "    \"110,011\",\n",
    "    \"101,111\",\n",
    "    \"101,100\",\n",
    "    \"101,001\",\n",
    "    \"100,111\",\n",
    "    \"100,100\",\n",
    "    \"100,010\",\n",
    "    \"100,001\",\n",
    "    \"011,111\",\n",
    "    \"011,100\",\n",
    "    \"011,010\",\n",
    "    \"011,001\",\n",
    "    \"010,111\",\n",
    "    \"010,100\",\n",
    "    \"010,010\",\n",
    "    \"010,001\",\n",
    "    \"001,110\",\n",
    "    \"000,110\",\n",
    "    \"000,011\"\n",
    "]\n",
    "\n",
    "key_recovery_metrics(execute_qkd, Alice, Bob, 16, attack, 3, VALID_SS)"
   ]
  },
  {
   "cell_type": "code",
   "execution_count": 3,
   "id": "8776d891-9f6b-4fa7-b970-7563ed1e1511",
   "metadata": {
    "collapsed": true,
    "jupyter": {
     "outputs_hidden": true
    }
   },
   "outputs": [
    {
     "name": "stdout",
     "output_type": "stream",
     "text": [
      "Key exchange failed, both keys are not equal. Please, try again.\n"
     ]
    },
    {
     "ename": "KeyboardInterrupt",
     "evalue": "",
     "output_type": "error",
     "traceback": [
      "\u001b[0;31m---------------------------------------------------------------------------\u001b[0m",
      "\u001b[0;31mKeyboardInterrupt\u001b[0m                         Traceback (most recent call last)",
      "\u001b[0;32m/tmp/ipykernel_19536/157854347.py\u001b[0m in \u001b[0;36m<cell line: 35>\u001b[0;34m()\u001b[0m\n\u001b[1;32m     34\u001b[0m \u001b[0;32mwhile\u001b[0m \u001b[0;32mTrue\u001b[0m\u001b[0;34m:\u001b[0m\u001b[0;34m\u001b[0m\u001b[0;34m\u001b[0m\u001b[0m\n\u001b[1;32m     35\u001b[0m     \u001b[0mpairs\u001b[0m \u001b[0;34m=\u001b[0m \u001b[0mrandint\u001b[0m\u001b[0;34m(\u001b[0m\u001b[0;36m8\u001b[0m\u001b[0;34m,\u001b[0m \u001b[0;36m256\u001b[0m\u001b[0;34m)\u001b[0m\u001b[0;34m\u001b[0m\u001b[0;34m\u001b[0m\u001b[0m\n\u001b[0;32m---> 36\u001b[0;31m     \u001b[0mresults\u001b[0m \u001b[0;34m=\u001b[0m \u001b[0mkey_recovery_metrics\u001b[0m\u001b[0;34m(\u001b[0m\u001b[0mexecute_qkd\u001b[0m\u001b[0;34m,\u001b[0m \u001b[0mAlice\u001b[0m\u001b[0;34m,\u001b[0m \u001b[0mBob\u001b[0m\u001b[0;34m,\u001b[0m \u001b[0mpairs\u001b[0m\u001b[0;34m,\u001b[0m \u001b[0mattack\u001b[0m\u001b[0;34m,\u001b[0m \u001b[0;36m3\u001b[0m\u001b[0;34m,\u001b[0m \u001b[0mVALID_SS\u001b[0m\u001b[0;34m,\u001b[0m \u001b[0mdepolarize_probability\u001b[0m \u001b[0;34m=\u001b[0m \u001b[0;36m1\u001b[0m\u001b[0;34m)\u001b[0m\u001b[0;34m\u001b[0m\u001b[0;34m\u001b[0m\u001b[0m\n\u001b[0m\u001b[1;32m     37\u001b[0m \u001b[0;34m\u001b[0m\u001b[0m\n\u001b[1;32m     38\u001b[0m     \u001b[0;32mif\u001b[0m \u001b[0;32mnot\u001b[0m \u001b[0mresults\u001b[0m\u001b[0;34m:\u001b[0m \u001b[0;32mcontinue\u001b[0m\u001b[0;34m\u001b[0m\u001b[0;34m\u001b[0m\u001b[0m\n",
      "\u001b[0;32m~/Desktop/Quantum Cryptography/Tesis/FramesQKD/LLS21/../metrics.py\u001b[0m in \u001b[0;36mkey_recovery_metrics\u001b[0;34m(execute_qkd, Alice, Bob, pairs, Attack, dim, VALID_SS, DEBUG_QKD, depolarize_probability, DEBUG_ATCK)\u001b[0m\n\u001b[1;32m      9\u001b[0m     \u001b[0mSS\u001b[0m \u001b[0;34m=\u001b[0m \u001b[0;34m[\u001b[0m \u001b[0;34mf\"{sifting_string[i]},{measured_string[i]}\"\u001b[0m \u001b[0;32mfor\u001b[0m \u001b[0mi\u001b[0m \u001b[0;32min\u001b[0m \u001b[0mrange\u001b[0m\u001b[0;34m(\u001b[0m\u001b[0mlen\u001b[0m\u001b[0;34m(\u001b[0m\u001b[0msifting_string\u001b[0m\u001b[0;34m)\u001b[0m\u001b[0;34m)\u001b[0m \u001b[0;34m]\u001b[0m\u001b[0;34m\u001b[0m\u001b[0;34m\u001b[0m\u001b[0m\n\u001b[1;32m     10\u001b[0m \u001b[0;34m\u001b[0m\u001b[0m\n\u001b[0;32m---> 11\u001b[0;31m     \u001b[0mkey_recovered\u001b[0m \u001b[0;34m=\u001b[0m \u001b[0mAttack\u001b[0m\u001b[0;34m(\u001b[0m\u001b[0musable_frames\u001b[0m\u001b[0;34m,\u001b[0m \u001b[0mSS\u001b[0m\u001b[0;34m,\u001b[0m \u001b[0mDEBUG_ATCK\u001b[0m\u001b[0;34m)\u001b[0m\u001b[0;34m\u001b[0m\u001b[0;34m\u001b[0m\u001b[0m\n\u001b[0m\u001b[1;32m     12\u001b[0m \u001b[0;34m\u001b[0m\u001b[0m\n\u001b[1;32m     13\u001b[0m     \u001b[0mprivate_key_blocks\u001b[0m \u001b[0;34m=\u001b[0m \u001b[0;34m[\u001b[0m \u001b[0mbob_key\u001b[0m\u001b[0;34m[\u001b[0m\u001b[0mi\u001b[0m \u001b[0;34m:\u001b[0m \u001b[0mi\u001b[0m \u001b[0;34m+\u001b[0m \u001b[0mdim\u001b[0m\u001b[0;34m]\u001b[0m \u001b[0;32mfor\u001b[0m \u001b[0mi\u001b[0m \u001b[0;32min\u001b[0m \u001b[0mrange\u001b[0m\u001b[0;34m(\u001b[0m\u001b[0;36m0\u001b[0m\u001b[0;34m,\u001b[0m \u001b[0mlen\u001b[0m\u001b[0;34m(\u001b[0m\u001b[0mbob_key\u001b[0m\u001b[0;34m)\u001b[0m\u001b[0;34m,\u001b[0m \u001b[0mdim\u001b[0m\u001b[0;34m)\u001b[0m  \u001b[0;34m]\u001b[0m\u001b[0;34m\u001b[0m\u001b[0;34m\u001b[0m\u001b[0m\n",
      "\u001b[0;32m~/Desktop/Quantum Cryptography/Tesis/FramesQKD/LLS21/partial_key_recovery.py\u001b[0m in \u001b[0;36mattack\u001b[0;34m(usable_frames, SS, DEBUG)\u001b[0m\n\u001b[1;32m    208\u001b[0m     \u001b[0;31m# --------------------------------------------------------------------------------------------------------------------------------\u001b[0m\u001b[0;34m\u001b[0m\u001b[0;34m\u001b[0m\u001b[0m\n\u001b[1;32m    209\u001b[0m \u001b[0;34m\u001b[0m\u001b[0m\n\u001b[0;32m--> 210\u001b[0;31m     \u001b[0mrec\u001b[0m\u001b[0;34m.\u001b[0m\u001b[0mrecover_from_known_frame\u001b[0m\u001b[0;34m(\u001b[0m\u001b[0;34m)\u001b[0m\u001b[0;34m\u001b[0m\u001b[0;34m\u001b[0m\u001b[0m\n\u001b[0m\u001b[1;32m    211\u001b[0m \u001b[0;34m\u001b[0m\u001b[0m\n\u001b[1;32m    212\u001b[0m     \u001b[0mrecovered_frames_and_orientations\u001b[0m \u001b[0;34m=\u001b[0m \u001b[0mrec\u001b[0m\u001b[0;34m.\u001b[0m\u001b[0mto_list\u001b[0m\u001b[0;34m(\u001b[0m\u001b[0;34m)\u001b[0m\u001b[0;34m\u001b[0m\u001b[0;34m\u001b[0m\u001b[0m\n",
      "\u001b[0;32m~/Desktop/Quantum Cryptography/Tesis/FramesQKD/LLS21/partial_key_recovery.py\u001b[0m in \u001b[0;36mrecover_from_known_frame\u001b[0;34m(self)\u001b[0m\n\u001b[1;32m    112\u001b[0m                             \u001b[0morientations\u001b[0m \u001b[0;34m=\u001b[0m \u001b[0mFRAMES_STRUCTURES\u001b[0m\u001b[0;34m[\u001b[0m\u001b[0mss\u001b[0m\u001b[0;34m]\u001b[0m\u001b[0;34m\u001b[0m\u001b[0;34m\u001b[0m\u001b[0m\n\u001b[1;32m    113\u001b[0m \u001b[0;34m\u001b[0m\u001b[0m\n\u001b[0;32m--> 114\u001b[0;31m                             \u001b[0;32mif\u001b[0m \u001b[0mlen\u001b[0m\u001b[0;34m(\u001b[0m\u001b[0mindex\u001b[0m\u001b[0;34m)\u001b[0m \u001b[0;34m==\u001b[0m \u001b[0;36m2\u001b[0m\u001b[0;34m:\u001b[0m\u001b[0;34m\u001b[0m\u001b[0;34m\u001b[0m\u001b[0m\n\u001b[0m\u001b[1;32m    115\u001b[0m                                 \u001b[0;32mif\u001b[0m \u001b[0mknown_frame_and_orientation\u001b[0m\u001b[0;34m[\u001b[0m\u001b[0;36m1\u001b[0m\u001b[0;34m]\u001b[0m\u001b[0;34m[\u001b[0m\u001b[0mindex\u001b[0m\u001b[0;34m[\u001b[0m\u001b[0;36m0\u001b[0m\u001b[0;34m]\u001b[0m\u001b[0;34m]\u001b[0m \u001b[0;34m==\u001b[0m \u001b[0morientations\u001b[0m\u001b[0;34m[\u001b[0m\u001b[0;36m0\u001b[0m\u001b[0;34m]\u001b[0m\u001b[0;34m[\u001b[0m\u001b[0mindex\u001b[0m\u001b[0;34m[\u001b[0m\u001b[0;36m1\u001b[0m\u001b[0;34m]\u001b[0m\u001b[0;34m]\u001b[0m \u001b[0;32mand\u001b[0m \u001b[0morientations\u001b[0m\u001b[0;34m[\u001b[0m\u001b[0;36m0\u001b[0m\u001b[0;34m]\u001b[0m\u001b[0;34m[\u001b[0m\u001b[0mindex\u001b[0m\u001b[0;34m[\u001b[0m\u001b[0;36m1\u001b[0m\u001b[0;34m]\u001b[0m\u001b[0;34m]\u001b[0m \u001b[0;34m!=\u001b[0m \u001b[0morientations\u001b[0m\u001b[0;34m[\u001b[0m\u001b[0;36m1\u001b[0m\u001b[0;34m]\u001b[0m\u001b[0;34m[\u001b[0m\u001b[0mindex\u001b[0m\u001b[0;34m[\u001b[0m\u001b[0;36m1\u001b[0m\u001b[0;34m]\u001b[0m\u001b[0;34m]\u001b[0m\u001b[0;34m:\u001b[0m\u001b[0;34m\u001b[0m\u001b[0;34m\u001b[0m\u001b[0m\n\u001b[1;32m    116\u001b[0m                                     \u001b[0mrecovered_frames_and_orientations\u001b[0m\u001b[0;34m[\u001b[0m\u001b[0mss\u001b[0m\u001b[0;34m]\u001b[0m\u001b[0;34m.\u001b[0m\u001b[0madd\u001b[0m\u001b[0;34m(\u001b[0m\u001b[0;34m(\u001b[0m\u001b[0mframe\u001b[0m\u001b[0;34m,\u001b[0m \u001b[0morientations\u001b[0m\u001b[0;34m[\u001b[0m\u001b[0;36m0\u001b[0m\u001b[0;34m]\u001b[0m\u001b[0;34m)\u001b[0m\u001b[0;34m)\u001b[0m\u001b[0;34m\u001b[0m\u001b[0;34m\u001b[0m\u001b[0m\n",
      "\u001b[0;31mKeyboardInterrupt\u001b[0m: "
     ]
    }
   ],
   "source": [
    "VALID_SS = [\n",
    "    \"111,110\",\n",
    "    \"111,011\",\n",
    "    \"110,110\",\n",
    "    \"110,011\",\n",
    "    \"101,111\",\n",
    "    \"101,100\",\n",
    "    \"101,001\",\n",
    "    \"100,111\",\n",
    "    \"100,100\",\n",
    "    \"100,010\",\n",
    "    \"100,001\",\n",
    "    \"011,111\",\n",
    "    \"011,100\",\n",
    "    \"011,010\",\n",
    "    \"011,001\",\n",
    "    \"010,111\",\n",
    "    \"010,100\",\n",
    "    \"010,010\",\n",
    "    \"010,001\",\n",
    "    \"001,110\",\n",
    "    \"000,110\",\n",
    "    \"000,011\"\n",
    "]\n",
    "\n",
    "try:\n",
    "    df = pd.read_csv(\"results.csv\")\n",
    "except:\n",
    "    file = open(\"results.csv\", \"w\")\n",
    "    file.write(\"double_matchings,bits_recovered,bits,%\")\n",
    "    file.close()\n",
    "    df = pd.read_csv(\"results.csv\")\n",
    "\n",
    "while True:\n",
    "    pairs = randint(8, 256)\n",
    "    results = key_recovery_metrics(execute_qkd, Alice, Bob, pairs, attack, 3, VALID_SS, depolarize_probability = 1)\n",
    "    \n",
    "    if not results: continue\n",
    "\n",
    "    df.loc[len(df)] = [ len(results[\"double_matchings\"]), results[\"bits_recovered\"], results[\"bits\"], results[\"%\"] ]\n",
    "    \n",
    "    df.to_csv(\"results.csv\", index = False)"
   ]
  }
 ],
 "metadata": {
  "kernelspec": {
   "display_name": "Python 3 (ipykernel)",
   "language": "python",
   "name": "python3"
  },
  "language_info": {
   "codemirror_mode": {
    "name": "ipython",
    "version": 3
   },
   "file_extension": ".py",
   "mimetype": "text/x-python",
   "name": "python",
   "nbconvert_exporter": "python",
   "pygments_lexer": "ipython3",
   "version": "3.9.19"
  }
 },
 "nbformat": 4,
 "nbformat_minor": 5
}
