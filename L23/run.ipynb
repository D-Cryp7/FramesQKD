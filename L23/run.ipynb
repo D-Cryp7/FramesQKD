{
 "cells": [
  {
   "cell_type": "markdown",
   "id": "1bdcf5f1-0b21-458d-ae42-84b233c4eb41",
   "metadata": {},
   "source": [
    "#### Execute L23"
   ]
  },
  {
   "cell_type": "code",
   "execution_count": 20,
   "id": "797a483b-4a35-49da-9293-b012343ef54b",
   "metadata": {
    "tags": []
   },
   "outputs": [
    {
     "name": "stdout",
     "output_type": "stream",
     "text": [
      "Alice raw key: 11001000001010101100001111110001\n",
      "Bob raw key: 00001100001010101101001011010001\n",
      "QKD completed!\n",
      "Shared key: 0110110010101101110110110101101010001000001000111100111001100101010000000010000001000011001111111010000001010110001111001001001101111000101000001001111111000101011111010000010110111011010100110101010101000001011000010110100000000011101111000011010110110011110000011000010111110000001001110101100010110100101001010101000111010101101011100101101010111001000110100111011100111110010001000011100011110110001001010001111010011110010101011100011010011101111001010010101110111011100001000110011001101001110110001100000100010000100100001001010110000110001110000010101001010101100001101110011110001010100100010100010110110010111101100100010000010100000010011001010010110011110110010000101000011010010111111110100101001000010111101111101001000111100010100001111100110010010001010001111111100100111001011010000100100101111110111101110000011100110101011101010110111001010010101001010001111111101011001110010101100001010000010110001100000011000000101000001001111010010000110010110110101000001111110101001010100100010010100001000011010001001000000100010011111110001010101110000011110011000010100000001111000011110011001001000100110001011110001110001010110110110100010111011101110110111000111110001001000000011111011111111100010100100111011001111001100111101111011101001010100010011110010110110010010010101101111100110101011001100010100101100000010001011010001011111010010100000101001110110000111111010110101100010111101100011010110010110011001010010001000110110100001001011111111011111000001001101101100101110010100110011101101011100011011010101110110110001000101001111111101101011010110000000110101001011110101011111100100110101011011110001111011100100100001100101101011010100011111010101100110111011000011110010110100110101111000110101010100000111101101100111110010101100110100011001101010000101000010100110011110000111010010010010011010010100011011110100001010001111010100010111010100000010000100011000111101100\n",
      "Alice encrypted message: 1e9fe1cbada91c46f123d2d899addda606250ad8c30ca4b2f3500fe9f9b9410ec327aa57353f4ca186919b45521d0336\n",
      "Bob decrypted message: H3xTEL{R3v3rS3_R3C0nc1l14710N_1s_P34K!}\n"
     ]
    }
   ],
   "source": [
    "from Crypto.Util.Padding import pad, unpad\n",
    "from Crypto.Cipher import AES\n",
    "from hashlib import sha256\n",
    "\n",
    "from qkd import QKD\n",
    "\n",
    "bits = 32\n",
    "qkd = QKD(bits)\n",
    "\n",
    "alice_raw_key, bob_raw_key = qkd.generate_raw_key()\n",
    "print(f\"Alice raw key: {alice_raw_key}\")\n",
    "print(f\"Bob raw key: {bob_raw_key}\")\n",
    "\n",
    "alice_key, bob_key, lists = qkd.generate_sifting_key(alice_raw_key, bob_raw_key)\n",
    "\n",
    "assert alice_key == bob_key\n",
    "print(\"QKD completed!\")\n",
    "\n",
    "print(f\"Shared key: {alice_key}\")\n",
    "\n",
    "alice_key = sha256(alice_key.encode()).digest()\n",
    "bob_key = sha256(bob_key.encode()).digest()\n",
    "\n",
    "MSG = b\"H3xTEL{R3v3rS3_R3C0nc1l14710N_1s_P34K!}\"\n",
    "cipher = AES.new(alice_key, AES.MODE_ECB)\n",
    "encrypted = cipher.encrypt(pad(MSG, 16))\n",
    "\n",
    "print(f\"Alice encrypted message: {encrypted.hex()}\")\n",
    "\n",
    "cipher = AES.new(bob_key, AES.MODE_ECB)\n",
    "decrypted = unpad(cipher.decrypt(encrypted), 16)\n",
    "\n",
    "print(f\"Bob decrypted message: {decrypted.decode()}\")"
   ]
  },
  {
   "cell_type": "code",
   "execution_count": 21,
   "id": "f256e36f-68be-41fe-942b-290a2a237316",
   "metadata": {},
   "outputs": [
    {
     "name": "stdout",
     "output_type": "stream",
     "text": [
      "Success!\n"
     ]
    }
   ],
   "source": [
    "from key_recovery import attack\n",
    "from itertools import product\n",
    "\n",
    "key_recovered = []\n",
    "for L1, L2 in zip(lists[\"L1\"], lists[\"L2\"]):\n",
    "    rec = attack(L1, L2)\n",
    "    key_recovered.append(rec)\n",
    "    rec = rec.replace('1', '2').replace('0', '1').replace('2', '0')\n",
    "    key_recovered.append(rec)\n",
    "\n",
    "for x, y in product(key_recovered, key_recovered):\n",
    "    key = x + y\n",
    "    key = sha256(key.encode()).digest()\n",
    "    if key == bob_key:\n",
    "        print(\"Success!\")\n",
    "        break"
   ]
  }
 ],
 "metadata": {
  "kernelspec": {
   "display_name": "Python 3 (ipykernel)",
   "language": "python",
   "name": "python3"
  },
  "language_info": {
   "codemirror_mode": {
    "name": "ipython",
    "version": 3
   },
   "file_extension": ".py",
   "mimetype": "text/x-python",
   "name": "python",
   "nbconvert_exporter": "python",
   "pygments_lexer": "ipython3",
   "version": "3.9.19"
  }
 },
 "nbformat": 4,
 "nbformat_minor": 5
}
