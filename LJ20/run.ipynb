{
 "cells": [
  {
   "cell_type": "code",
   "execution_count": 43,
   "id": "f2c19714-59f5-42ff-98ef-b448fe59a33d",
   "metadata": {},
   "outputs": [],
   "source": [
    "from alice import Alice\n",
    "from bob import Bob\n",
    "\n",
    "def execute_qkd(pairs):\n",
    "    # Initialization\n",
    "    alice = Alice(pairs)\n",
    "    bob = Bob()\n",
    "    \n",
    "    # Send pairs\n",
    "    pairs = alice.prepare()\n",
    "\n",
    "    # Measure each pair and retrieve double matchings\n",
    "    bob = Bob()\n",
    "    double_matchings = bob.measure(pairs)\n",
    "    \n",
    "    # Verify that there's double matchings\n",
    "    if not len(double_matchings):\n",
    "        print(\"Key exchange failed, there's no double matchings. Please, try again.\")\n",
    "        return None\n",
    "    \n",
    "    # Compute usable frames for Bob\n",
    "    usable_frames, usable_frames_types = alice.compute_usable_frames(double_matchings)\n",
    "    \n",
    "    # Veirfy that there's usable frames\n",
    "    if not len(usable_frames):\n",
    "        print(\"Key exchange failed, there's no usable frames. Please, try again.\")\n",
    "        return None\n",
    "\n",
    "    # Compute sifting string\n",
    "    sifting_string = bob.compute_sifting_string(usable_frames)\n",
    "\n",
    "    # Bob computes secret key\n",
    "    bob_key = bob.generate_shared_key(usable_frames)\n",
    "\n",
    "    # Alice computes secret key\n",
    "    alice_key = alice.generate_shared_key(usable_frames_types, sifting_string)\n",
    "    \n",
    "    if alice_key == bob_key:\n",
    "        print(\"Key exchange completed, here's the data:\")\n",
    "        print(f\"Alice send pairs: {alice.pairs_data}\")\n",
    "        print(f\"Bob send double matchings: {double_matchings}\")\n",
    "        print(f\"Alice send usable frames: {usable_frames}\")\n",
    "        print(f\"Bob send sifting string: {sifting_string}\")\n",
    "        print(f\"Bob shared key: {bob_key}\")\n",
    "        print(f\"Alice shared key: {alice_key}\")\n",
    "        return alice_key, bob_key\n",
    "    else:\n",
    "        print(\"Key exchange failed, both keys are not equal. Please, try again.\")\n",
    "        return None"
   ]
  },
  {
   "cell_type": "code",
   "execution_count": 50,
   "id": "dad8f8d2-d54d-4fcf-b90d-967655d44a03",
   "metadata": {},
   "outputs": [
    {
     "name": "stdout",
     "output_type": "stream",
     "text": [
      "Key exchange completed, here's the data:\n",
      "Alice send pairs: {0: '0x,1z', 1: '0x,1z', 2: '1x,0z', 3: '0x,0z', 4: '1x,1z', 5: '0x,1z', 6: '0x,0z', 7: '1x,1z', 8: '0x,1z', 9: '0x,1z', 10: '1x,0z', 11: '1x,1z', 12: '0x,1z', 13: '0x,1z', 14: '0x,1z', 15: '0x,0z'}\n",
      "Bob send double matchings: [3, 4, 6, 8, 10, 11, 12, 14]\n",
      "Alice send usable frames: [(4, 8), (4, 10), (4, 12), (4, 14), (8, 10), (8, 11), (10, 11), (10, 12), (10, 14), (11, 12), (11, 14)]\n",
      "Bob send sifting string: ['11', '00', '11', '10', '11', '00', '11', '11', '10', '00', '01']\n",
      "Bob shared key: 1000100011011010000111\n",
      "Alice shared key: 1000100011011010000111\n"
     ]
    }
   ],
   "source": [
    "keys = execute_qkd(16)"
   ]
  }
 ],
 "metadata": {
  "kernelspec": {
   "display_name": "Python 3",
   "language": "python",
   "name": "python3"
  },
  "language_info": {
   "codemirror_mode": {
    "name": "ipython",
    "version": 3
   },
   "file_extension": ".py",
   "mimetype": "text/x-python",
   "name": "python",
   "nbconvert_exporter": "python",
   "pygments_lexer": "ipython3",
   "version": "3.8.15"
  }
 },
 "nbformat": 4,
 "nbformat_minor": 5
}
