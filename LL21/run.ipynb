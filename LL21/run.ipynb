{
 "cells": [
  {
   "cell_type": "code",
   "execution_count": 3,
   "id": "af2b0992-cd0d-4bbe-be40-331e4141aaa9",
   "metadata": {},
   "outputs": [],
   "source": [
    "from alice import Alice\n",
    "from bob import Bob\n",
    "\n",
    "from partial_key_recovery import attack\n",
    "\n",
    "import sys\n",
    "sys.path.append('..')\n",
    "\n",
    "from metrics import key_recovery_metrics\n",
    "from qkd import execute_qkd\n",
    "\n",
    "import matplotlib.pyplot as plt\n",
    "import pandas as pd"
   ]
  },
  {
   "cell_type": "code",
   "execution_count": 9,
   "id": "dad8f8d2-d54d-4fcf-b90d-967655d44a03",
   "metadata": {},
   "outputs": [
    {
     "name": "stdout",
     "output_type": "stream",
     "text": [
      "Key exchange completed, here's the data:\n",
      "Alice send pairs: {0: '1x,0z', 1: '1x,1z', 2: '1x,0z', 3: '0x,1z', 4: '0x,0z', 5: '0x,1z', 6: '0x,0z', 7: '0x,1z', 8: '0x,0z', 9: '0x,0z', 10: '0x,0z', 11: '1x,1z', 12: '1x,0z', 13: '0x,1z', 14: '1x,1z', 15: '1x,1z'}\n",
      "Bob send double matchings: [0, 2, 3, 8, 9, 11, 14]\n",
      "Alice send usable frames: [(0, 3), (0, 11), (0, 14), (2, 3), (2, 11), (2, 14), (3, 11), (3, 14)]\n",
      "Bob send sifting string: ['10', '11', '11', '10', '11', '11', '01', '01']\n",
      "Bob send measured string: ['10', '00', '00', '10', '00', '00', '10', '10']\n",
      "Bob shared key: 0010100010101010\n",
      "Alice shared key: 0010100010101010\n"
     ]
    }
   ],
   "source": [
    "public, private = execute_qkd(Alice, Bob, 16, DEBUG = True)"
   ]
  },
  {
   "cell_type": "code",
   "execution_count": 13,
   "id": "37a5dd11-66ba-4178-85d3-699dcd8df64d",
   "metadata": {},
   "outputs": [
    {
     "data": {
      "text/plain": [
       "{'double_matchings': [0, 1, 2, 3, 4, 7, 8, 11, 12, 13, 14],\n",
       " 'bits_recovered': 32,\n",
       " 'bits': 32,\n",
       " '%': 1.0,\n",
       " 'SS_left': []}"
      ]
     },
     "execution_count": 13,
     "metadata": {},
     "output_type": "execute_result"
    }
   ],
   "source": [
    "VALID_SS = [\n",
    "    \"00,00\",\n",
    "    \"00,11\",\n",
    "    \"01,10\",\n",
    "    \"01,01\",\n",
    "    \"10,01\",\n",
    "    \"10,10\",\n",
    "    \"11,11\"\n",
    "]\n",
    "\n",
    "key_recovery_metrics(execute_qkd, Alice, Bob, 16, attack, 2, VALID_SS)"
   ]
  },
  {
   "cell_type": "code",
   "execution_count": null,
   "id": "a75aa651-c3c8-4c51-b623-294ebaa28768",
   "metadata": {},
   "outputs": [
    {
     "name": "stdout",
     "output_type": "stream",
     "text": [
      "Key exchange failed, both keys are not equal. Please, try again.\n",
      "Key exchange failed, both keys are not equal. Please, try again.\n",
      "Key exchange failed, both keys are not equal. Please, try again.\n",
      "Key exchange failed, both keys are not equal. Please, try again.\n",
      "Key exchange failed, both keys are not equal. Please, try again.\n",
      "Key exchange failed, both keys are not equal. Please, try again.\n",
      "Key exchange failed, both keys are not equal. Please, try again.\n",
      "Key exchange failed, both keys are not equal. Please, try again.\n",
      "Key exchange failed, both keys are not equal. Please, try again.\n",
      "Key exchange failed, both keys are not equal. Please, try again.\n",
      "Key exchange failed, both keys are not equal. Please, try again.\n",
      "Key exchange failed, both keys are not equal. Please, try again.\n",
      "Key exchange failed, both keys are not equal. Please, try again.\n",
      "Key exchange failed, both keys are not equal. Please, try again.\n"
     ]
    }
   ],
   "source": [
    "pairs = 256\n",
    "\n",
    "VALID_SS = [\n",
    "    \"00,00\",\n",
    "    \"00,11\",\n",
    "    \"01,10\",\n",
    "    \"01,01\",\n",
    "    \"10,01\",\n",
    "    \"10,10\",\n",
    "    \"11,11\"\n",
    "]\n",
    "\n",
    "try:\n",
    "    df = pd.read_csv(\"results.csv\")\n",
    "except:\n",
    "    file = open(\"results.csv\", \"w\")\n",
    "    file.write(\"double_matchings,bits_recovered,bits,%\")\n",
    "    file.close()\n",
    "    df = pd.read_csv(\"results.csv\")\n",
    "\n",
    "while True:\n",
    "    results = key_recovery_metrics(execute_qkd, Alice, Bob, pairs, attack, 2, VALID_SS, depolarize_probability = 1)\n",
    "    \n",
    "    if not results: continue\n",
    "\n",
    "    df.loc[len(df)] = [ len(results[\"double_matchings\"]), results[\"bits_recovered\"], results[\"bits\"], results[\"%\"] ]\n",
    "    \n",
    "    df.to_csv(\"results.csv\", index = False)"
   ]
  },
  {
   "cell_type": "code",
   "execution_count": 4,
   "id": "0c2fd1dc-d589-4290-9f16-d53d077ed54e",
   "metadata": {},
   "outputs": [
    {
     "data": {
      "image/png": "[encoded data removed]",
      "text/plain": [
       "<Figure size 640x480 with 1 Axes>"
      ]
     },
     "metadata": {},
     "output_type": "display_data"
    }
   ],
   "source": [
    "df = pd.read_csv(\"results.csv\")\n",
    "df.plot.scatter(x = \"double_matchings\", y = \"%\", xlabel = \"dobles coincidencias (double matchings)\", ylabel = \"fracción de bits recuperados\", alpha = 0.5)\n",
    "\n",
    "plt.savefig('LL21_results.svg', format = \"svg\")"
   ]
  }
 ],
 "metadata": {
  "kernelspec": {
   "display_name": "Python 3 (ipykernel)",
   "language": "python",
   "name": "python3"
  },
  "language_info": {
   "codemirror_mode": {
    "name": "ipython",
    "version": 3
   },
   "file_extension": ".py",
   "mimetype": "text/x-python",
   "name": "python",
   "nbconvert_exporter": "python",
   "pygments_lexer": "ipython3",
   "version": "3.9.19"
  }
 },
 "nbformat": 4,
 "nbformat_minor": 5
}
