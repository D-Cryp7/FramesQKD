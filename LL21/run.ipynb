{
 "cells": [
  {
   "cell_type": "code",
   "execution_count": 8,
   "id": "f2c19714-59f5-42ff-98ef-b448fe59a33d",
   "metadata": {},
   "outputs": [],
   "source": [
    "from alice import Alice\n",
    "from bob import Bob\n",
    "\n",
    "def execute_qkd(pairs, DEBUG = True, depolarize_probability = 0):\n",
    "    # Initialization\n",
    "    alice = Alice(pairs)\n",
    "    bob = Bob(depolarize_probability)\n",
    "    \n",
    "    # Send pairs\n",
    "    pairs = alice.prepare()\n",
    "\n",
    "    # Measure each pair and retrieve double matchings\n",
    "    double_matchings = bob.measure(pairs)\n",
    "    \n",
    "    # Verify that there's double matchings\n",
    "    if not len(double_matchings):\n",
    "        print(\"Key exchange failed, there's no double matchings. Please, try again.\")\n",
    "        return (), ()\n",
    "    \n",
    "    # Compute usable frames for Bob\n",
    "    usable_frames, usable_frames_types = alice.compute_usable_frames(double_matchings)\n",
    "    \n",
    "    # Veirfy that there's usable frames\n",
    "    if not len(usable_frames):\n",
    "        print(\"Key exchange failed, there's no usable frames. Please, try again.\")\n",
    "        return (), ()\n",
    "\n",
    "    # Compute sifting string\n",
    "    sifting_string = bob.compute_sifting_string(usable_frames)\n",
    "\n",
    "    # Compute measured string\n",
    "    measured_string = bob.compute_measured_string(usable_frames)\n",
    "\n",
    "    # Bob computes secret key\n",
    "    bob_key = bob.generate_shared_key(usable_frames)\n",
    "\n",
    "    # Alice computes secret key\n",
    "    alice_key = alice.generate_shared_key(usable_frames_types, sifting_string)\n",
    "    \n",
    "    if alice_key == bob_key:\n",
    "        if DEBUG:\n",
    "            print(\"Key exchange completed, here's the data:\")\n",
    "            print(f\"Alice send pairs: {alice.pairs_data}\")\n",
    "            print(f\"Bob send double matchings: {double_matchings}\")\n",
    "            print(f\"Alice send usable frames: {usable_frames}\")\n",
    "            print(f\"Bob send sifting string: {sifting_string}\")\n",
    "            print(f\"Bob shared key: {bob_key}\")\n",
    "            print(f\"Alice shared key: {alice_key}\")\n",
    "        return (usable_frames, sifting_string, measured_string), (alice_key, bob_key)\n",
    "    else:\n",
    "        print(\"Key exchange failed, both keys are not equal. Please, try again.\")\n",
    "        return (usable_frames, sifting_string, measured_string), (alice_key, bob_key)"
   ]
  },
  {
   "cell_type": "code",
   "execution_count": 9,
   "id": "dad8f8d2-d54d-4fcf-b90d-967655d44a03",
   "metadata": {},
   "outputs": [
    {
     "name": "stdout",
     "output_type": "stream",
     "text": [
      "Key exchange completed, here's the data:\n",
      "Alice send pairs: {0: '0x,0z', 1: '1x,0z', 2: '1x,0z', 3: '0x,1z', 4: '0x,1z', 5: '0x,1z', 6: '1x,1z', 7: '0x,0z', 8: '1x,0z', 9: '1x,0z', 10: '1x,0z', 11: '0x,0z', 12: '1x,0z', 13: '0x,1z', 14: '1x,1z', 15: '0x,1z'}\n",
      "Bob send double matchings: [1, 4, 8, 11, 12, 14]\n",
      "Alice send usable frames: [(1, 4), (1, 14), (4, 8), (4, 12), (4, 14), (8, 14), (12, 14)]\n",
      "Bob send sifting string: ['11', '11', '11', '01', '00', '11', '01']\n",
      "Bob shared key: 10101101011001\n",
      "Alice shared key: 10101101011001\n"
     ]
    }
   ],
   "source": [
    "public, private = execute_qkd(16)"
   ]
  },
  {
   "cell_type": "code",
   "execution_count": 3,
   "id": "b8fb0793-6d85-4793-a503-a182d82191eb",
   "metadata": {
    "tags": []
   },
   "outputs": [],
   "source": [
    "from partial_key_recovery import attack\n",
    "\n",
    "public, private = execute_qkd(256, DEBUG = False)\n",
    "usable_frames, sifting_string, conjugate_sifting_string = public\n",
    "alice_key, bob_key = private\n",
    "assert alice_key == bob_key\n",
    "\n",
    "key_recovered = attack(usable_frames, sifting_string, conjugate_sifting_string, DEBUG = False)\n",
    "\n",
    "private_key_blocks = [ alice_key[i : i + 2] for i in range(0, len(private[0]), 2)  ]\n",
    "key_recovered_blocks = [ key_recovered[i : i + 2] for i in range(0, len(key_recovered), 2)  ]\n",
    "\n",
    "'''\n",
    "for x, y in zip(private_key_blocks, key_recovered_blocks):\n",
    "    if x != y:\n",
    "        print(x, y)\n",
    "'''\n",
    "\n",
    "for i in range(len(private_key_blocks)):\n",
    "    if private_key_blocks[i] != key_recovered_blocks[i]:\n",
    "        print(usable_frames[i], key_recovered_blocks[i], private_key_blocks[i])"
   ]
  },
  {
   "cell_type": "code",
   "execution_count": 6,
   "id": "a19e0816-bbfc-4dca-8494-c518956a90b5",
   "metadata": {},
   "outputs": [],
   "source": [
    "def key_recovery_metrics(bits):\n",
    "    public, private = execute_qkd(bits, DEBUG = False)\n",
    "    usable_frames, sifting_string, conjugate_sifting_string = public\n",
    "    alice_key, bob_key = private\n",
    "    assert alice_key == bob_key\n",
    "\n",
    "    key_recovered = attack(usable_frames, sifting_string, conjugate_sifting_string, DEBUG = False)\n",
    "\n",
    "    private_key_blocks = [ alice_key[i : i + 2] for i in range(0, len(private[0]), 2)  ]\n",
    "    key_recovered_blocks = [ key_recovered[i : i + 2] for i in range(0, len(key_recovered), 2)  ]\n",
    "\n",
    "    bits_recovered = 0\n",
    "    for i in range(len(private_key_blocks)):\n",
    "        if private_key_blocks[i] == key_recovered_blocks[i]:\n",
    "            bits_recovered += 2\n",
    "    \n",
    "    return bits_recovered / len(alice_key)"
   ]
  },
  {
   "cell_type": "code",
   "execution_count": 44,
   "id": "e037f7f1-d57c-413a-a162-471bdf43d9d6",
   "metadata": {
    "tags": []
   },
   "outputs": [
    {
     "data": {
      "text/plain": [
       "0.984"
      ]
     },
     "execution_count": 44,
     "metadata": {},
     "output_type": "execute_result"
    }
   ],
   "source": [
    "from numpy import mean\n",
    "\n",
    "mean_recovered_per = []\n",
    "bits = 32\n",
    "\n",
    "for _ in range(1000):\n",
    "    recovered_per = key_recovery_metrics(bits)\n",
    "    mean_recovered_per.append(recovered_per)\n",
    "    \n",
    "mean(mean_recovered_per)"
   ]
  },
  {
   "cell_type": "code",
   "execution_count": 12,
   "id": "a75aa651-c3c8-4c51-b623-294ebaa28768",
   "metadata": {},
   "outputs": [
    {
     "data": {
      "text/plain": [
       "0.7510360863453527"
      ]
     },
     "execution_count": 12,
     "metadata": {},
     "output_type": "execute_result"
    }
   ],
   "source": [
    "from numpy import mean\n",
    "\n",
    "# mean_recovered_per = []\n",
    "bits = 256\n",
    "\n",
    "for _ in range(1000):\n",
    "    recovered_per = key_recovery_metrics(bits)\n",
    "    mean_recovered_per.append(recovered_per)\n",
    "    \n",
    "mean(mean_recovered_per)"
   ]
  }
 ],
 "metadata": {
  "kernelspec": {
   "display_name": "Python 3 (ipykernel)",
   "language": "python",
   "name": "python3"
  },
  "language_info": {
   "codemirror_mode": {
    "name": "ipython",
    "version": 3
   },
   "file_extension": ".py",
   "mimetype": "text/x-python",
   "name": "python",
   "nbconvert_exporter": "python",
   "pygments_lexer": "ipython3",
   "version": "3.9.19"
  }
 },
 "nbformat": 4,
 "nbformat_minor": 5
}
