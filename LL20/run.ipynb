{
 "cells": [
  {
   "cell_type": "markdown",
   "id": "57d5b3d5-93c4-4035-93a1-3e033e95be9d",
   "metadata": {},
   "source": [
    "#### Imports"
   ]
  },
  {
   "cell_type": "code",
   "execution_count": 1,
   "id": "f2c19714-59f5-42ff-98ef-b448fe59a33d",
   "metadata": {},
   "outputs": [],
   "source": [
    "from random import randint\n",
    "import pandas as pd\n",
    "import sys\n",
    "\n",
    "from alice import Alice\n",
    "from bob import Bob\n",
    "\n",
    "from partial_key_recovery import attack\n",
    "\n",
    "sys.path.append('..')\n",
    "\n",
    "from metrics import key_recovery_metrics\n",
    "from qkd import execute_qkd"
   ]
  },
  {
   "cell_type": "markdown",
   "id": "4b50ad74-f09d-4803-ad7b-a7f71169d9c1",
   "metadata": {},
   "source": [
    "#### Execute the LL20 QKD protocol"
   ]
  },
  {
   "cell_type": "code",
   "execution_count": 33,
   "id": "21f009d4-d48d-4702-8823-2e7d842f9f5e",
   "metadata": {},
   "outputs": [
    {
     "name": "stdout",
     "output_type": "stream",
     "text": [
      "Key exchange completed, here's the data:\n",
      "Alice send pairs: {0: '1x,0z', 1: '1x,0z', 2: '0x,0z', 3: '1x,0z', 4: '1x,1z', 5: '0x,0z', 6: '0x,0z', 7: '0x,0z', 8: '1x,1z', 9: '0x,1z', 10: '1x,0z', 11: '1x,0z', 12: '1x,0z', 13: '0x,1z', 14: '0x,0z', 15: '1x,0z'}\n",
      "Bob send double matchings: [3, 7, 11, 13, 15]\n",
      "Alice send usable frames: [(3, 13), (11, 13), (13, 15)]\n",
      "Bob send sifting string: ['00', '10', '00']\n",
      "Bob send measured string: ['00', '10', '00']\n",
      "Bob shared key: 110010\n",
      "Alice shared key: 110010\n"
     ]
    }
   ],
   "source": [
    "public, private = execute_qkd(Alice, Bob, 16, DEBUG = True)"
   ]
  },
  {
   "cell_type": "markdown",
   "id": "99192603-c871-4033-a60f-ff7eae0f6c24",
   "metadata": {},
   "source": [
    "#### Execute the LL20 QKD protocol and the Partial Key Recovery attack"
   ]
  },
  {
   "cell_type": "markdown",
   "id": "ad915a6b-bb4f-4415-9ad0-08c70aa62260",
   "metadata": {},
   "source": [
    "* Error-free"
   ]
  },
  {
   "cell_type": "code",
   "execution_count": 12,
   "id": "cbf6e47a-12e8-4249-95cd-062b65d90000",
   "metadata": {
    "collapsed": true,
    "jupyter": {
     "outputs_hidden": true
    }
   },
   "outputs": [
    {
     "data": {
      "text/plain": [
       "{'double_matchings': [0, 4, 5, 6, 7, 8, 11],\n",
       " 'bits_recovered': 4,\n",
       " 'bits': 22,\n",
       " '%': 0.18181818181818182,\n",
       " 'SS_left': ['01,10',\n",
       "  '01,10',\n",
       "  '01,10',\n",
       "  '10,10',\n",
       "  '00,00',\n",
       "  '10,01',\n",
       "  '00,00',\n",
       "  '10,01',\n",
       "  '10,10']}"
      ]
     },
     "execution_count": 12,
     "metadata": {},
     "output_type": "execute_result"
    }
   ],
   "source": [
    "# Assuming error-free\n",
    "\n",
    "VALID_SS = [\n",
    "    \"00,00\",\n",
    "    \"00,11\",\n",
    "    \"01,10\",\n",
    "    \"01,01\",\n",
    "    \"10,01\",\n",
    "    \"10,10\",\n",
    "    \"11,11\"\n",
    "]\n",
    "\n",
    "key_recovery_metrics(execute_qkd, Alice, Bob, 16, attack, 2, VALID_SS)"
   ]
  },
  {
   "cell_type": "markdown",
   "id": "e8d09f49-ca43-4488-b52d-3014a165c080",
   "metadata": {},
   "source": [
    "* Assuming errors. Then, the Partial Key Recovery becomes a total Key Recovery"
   ]
  },
  {
   "cell_type": "code",
   "execution_count": 13,
   "id": "72ad1ad0-7b11-4ef6-a7bd-177f73809bee",
   "metadata": {
    "collapsed": true,
    "jupyter": {
     "outputs_hidden": true
    },
    "scrolled": true
   },
   "outputs": [
    {
     "name": "stdout",
     "output_type": "stream",
     "text": [
      "Key exchange failed, both keys are not equal. Please, try again.\n"
     ]
    },
    {
     "data": {
      "text/plain": [
       "{'double_matchings': [1,\n",
       "  3,\n",
       "  4,\n",
       "  5,\n",
       "  6,\n",
       "  8,\n",
       "  13,\n",
       "  15,\n",
       "  16,\n",
       "  19,\n",
       "  21,\n",
       "  22,\n",
       "  23,\n",
       "  24,\n",
       "  28,\n",
       "  30,\n",
       "  31,\n",
       "  32,\n",
       "  33,\n",
       "  36,\n",
       "  37,\n",
       "  39,\n",
       "  40,\n",
       "  45,\n",
       "  46,\n",
       "  47,\n",
       "  50,\n",
       "  51,\n",
       "  55,\n",
       "  57,\n",
       "  62],\n",
       " 'bits_recovered': 108,\n",
       " 'bits': 108,\n",
       " '%': 1.0,\n",
       " 'SS_left': []}"
      ]
     },
     "execution_count": 13,
     "metadata": {},
     "output_type": "execute_result"
    }
   ],
   "source": [
    "VALID_SS = [\n",
    "    \"00,11\",\n",
    "    \"11,11\"\n",
    "]\n",
    "\n",
    "key_recovery_metrics(execute_qkd, Alice, Bob, 64, attack, 2, VALID_SS, depolarize_probability = 1)"
   ]
  },
  {
   "cell_type": "markdown",
   "id": "c0b9b391-d25e-4199-9995-20ff233d478d",
   "metadata": {},
   "source": [
    "#### Add results to dataframe"
   ]
  },
  {
   "cell_type": "markdown",
   "id": "16c6f278-2f38-401b-b452-a367bdde5695",
   "metadata": {},
   "source": [
    "* Error-free"
   ]
  },
  {
   "cell_type": "code",
   "execution_count": 2,
   "id": "950fc44d-137f-4a87-ad59-249dcbf4b852",
   "metadata": {
    "collapsed": true,
    "jupyter": {
     "outputs_hidden": true
    },
    "scrolled": true
   },
   "outputs": [
    {
     "name": "stdout",
     "output_type": "stream",
     "text": [
      "Key exchange failed, there's no usable frames. Please, try again.\n",
      "Key exchange failed, there's no usable frames. Please, try again.\n",
      "Key exchange failed, there's no usable frames. Please, try again.\n",
      "Key exchange failed, there's no usable frames. Please, try again.\n"
     ]
    },
    {
     "ename": "KeyboardInterrupt",
     "evalue": "",
     "output_type": "error",
     "traceback": [
      "\u001b[0;31m---------------------------------------------------------------------------\u001b[0m",
      "\u001b[0;31mKeyboardInterrupt\u001b[0m                         Traceback (most recent call last)",
      "\u001b[0;32m/tmp/ipykernel_18042/2306785025.py\u001b[0m in \u001b[0;36m<cell line: 20>\u001b[0;34m()\u001b[0m\n\u001b[1;32m     19\u001b[0m \u001b[0;32mwhile\u001b[0m \u001b[0;32mTrue\u001b[0m\u001b[0;34m:\u001b[0m\u001b[0;34m\u001b[0m\u001b[0;34m\u001b[0m\u001b[0m\n\u001b[1;32m     20\u001b[0m     \u001b[0mpairs\u001b[0m \u001b[0;34m=\u001b[0m \u001b[0mrandint\u001b[0m\u001b[0;34m(\u001b[0m\u001b[0;36m8\u001b[0m\u001b[0;34m,\u001b[0m \u001b[0;36m256\u001b[0m\u001b[0;34m)\u001b[0m\u001b[0;34m\u001b[0m\u001b[0;34m\u001b[0m\u001b[0m\n\u001b[0;32m---> 21\u001b[0;31m     \u001b[0mresults\u001b[0m \u001b[0;34m=\u001b[0m \u001b[0mkey_recovery_metrics\u001b[0m\u001b[0;34m(\u001b[0m\u001b[0mexecute_qkd\u001b[0m\u001b[0;34m,\u001b[0m \u001b[0mAlice\u001b[0m\u001b[0;34m,\u001b[0m \u001b[0mBob\u001b[0m\u001b[0;34m,\u001b[0m \u001b[0mpairs\u001b[0m\u001b[0;34m,\u001b[0m \u001b[0mattack\u001b[0m\u001b[0;34m,\u001b[0m \u001b[0;36m2\u001b[0m\u001b[0;34m,\u001b[0m \u001b[0mVALID_SS\u001b[0m\u001b[0;34m)\u001b[0m\u001b[0;34m\u001b[0m\u001b[0;34m\u001b[0m\u001b[0m\n\u001b[0m\u001b[1;32m     22\u001b[0m \u001b[0;34m\u001b[0m\u001b[0m\n\u001b[1;32m     23\u001b[0m     \u001b[0;32mif\u001b[0m \u001b[0;32mnot\u001b[0m \u001b[0mresults\u001b[0m\u001b[0;34m:\u001b[0m \u001b[0;32mcontinue\u001b[0m\u001b[0;34m\u001b[0m\u001b[0;34m\u001b[0m\u001b[0m\n",
      "\u001b[0;32m~/Desktop/Quantum Cryptography/Tesis/FramesQKD/LL20/../metrics.py\u001b[0m in \u001b[0;36mkey_recovery_metrics\u001b[0;34m(execute_qkd, Alice, Bob, pairs, Attack, dim, VALID_SS, DEBUG_QKD, depolarize_probability, DEBUG_ATCK)\u001b[0m\n\u001b[1;32m      1\u001b[0m \u001b[0;32mdef\u001b[0m \u001b[0mkey_recovery_metrics\u001b[0m\u001b[0;34m(\u001b[0m\u001b[0mexecute_qkd\u001b[0m\u001b[0;34m,\u001b[0m \u001b[0mAlice\u001b[0m\u001b[0;34m,\u001b[0m \u001b[0mBob\u001b[0m\u001b[0;34m,\u001b[0m \u001b[0mpairs\u001b[0m\u001b[0;34m,\u001b[0m \u001b[0mAttack\u001b[0m\u001b[0;34m,\u001b[0m \u001b[0mdim\u001b[0m\u001b[0;34m,\u001b[0m \u001b[0mVALID_SS\u001b[0m\u001b[0;34m,\u001b[0m \u001b[0mDEBUG_QKD\u001b[0m \u001b[0;34m=\u001b[0m \u001b[0;32mFalse\u001b[0m\u001b[0;34m,\u001b[0m \u001b[0mdepolarize_probability\u001b[0m \u001b[0;34m=\u001b[0m \u001b[0;36m0\u001b[0m\u001b[0;34m,\u001b[0m \u001b[0mDEBUG_ATCK\u001b[0m \u001b[0;34m=\u001b[0m \u001b[0;32mFalse\u001b[0m\u001b[0;34m)\u001b[0m\u001b[0;34m:\u001b[0m\u001b[0;34m\u001b[0m\u001b[0;34m\u001b[0m\u001b[0m\n\u001b[0;32m----> 2\u001b[0;31m     \u001b[0mpublic\u001b[0m\u001b[0;34m,\u001b[0m \u001b[0mprivate\u001b[0m \u001b[0;34m=\u001b[0m \u001b[0mexecute_qkd\u001b[0m\u001b[0;34m(\u001b[0m\u001b[0mAlice\u001b[0m\u001b[0;34m,\u001b[0m \u001b[0mBob\u001b[0m\u001b[0;34m,\u001b[0m \u001b[0mpairs\u001b[0m\u001b[0;34m,\u001b[0m \u001b[0mDEBUG_QKD\u001b[0m\u001b[0;34m,\u001b[0m \u001b[0mdepolarize_probability\u001b[0m\u001b[0;34m)\u001b[0m\u001b[0;34m\u001b[0m\u001b[0;34m\u001b[0m\u001b[0m\n\u001b[0m\u001b[1;32m      3\u001b[0m \u001b[0;34m\u001b[0m\u001b[0m\n\u001b[1;32m      4\u001b[0m     \u001b[0;32mif\u001b[0m \u001b[0;32mnot\u001b[0m \u001b[0mpublic\u001b[0m \u001b[0;32mand\u001b[0m \u001b[0;32mnot\u001b[0m \u001b[0mprivate\u001b[0m\u001b[0;34m:\u001b[0m \u001b[0;32mreturn\u001b[0m \u001b[0;32mNone\u001b[0m\u001b[0;34m\u001b[0m\u001b[0;34m\u001b[0m\u001b[0m\n\u001b[1;32m      5\u001b[0m \u001b[0;34m\u001b[0m\u001b[0m\n",
      "\u001b[0;32m~/Desktop/Quantum Cryptography/Tesis/FramesQKD/LL20/../qkd.py\u001b[0m in \u001b[0;36mexecute_qkd\u001b[0;34m(Alice, Bob, pairs, DEBUG, depolarize_probability)\u001b[0m\n\u001b[1;32m      8\u001b[0m \u001b[0;34m\u001b[0m\u001b[0m\n\u001b[1;32m      9\u001b[0m     \u001b[0;31m# Measure each pair and retrieve double matchings\u001b[0m\u001b[0;34m\u001b[0m\u001b[0;34m\u001b[0m\u001b[0m\n\u001b[0;32m---> 10\u001b[0;31m     \u001b[0mdouble_matchings\u001b[0m \u001b[0;34m=\u001b[0m \u001b[0mbob\u001b[0m\u001b[0;34m.\u001b[0m\u001b[0mmeasure\u001b[0m\u001b[0;34m(\u001b[0m\u001b[0mpairs\u001b[0m\u001b[0;34m)\u001b[0m\u001b[0;34m\u001b[0m\u001b[0;34m\u001b[0m\u001b[0m\n\u001b[0m\u001b[1;32m     11\u001b[0m \u001b[0;34m\u001b[0m\u001b[0m\n\u001b[1;32m     12\u001b[0m     \u001b[0;31m# Verify that there's double matchings\u001b[0m\u001b[0;34m\u001b[0m\u001b[0;34m\u001b[0m\u001b[0m\n",
      "\u001b[0;32m~/Desktop/Quantum Cryptography/Tesis/FramesQKD/LL20/bob.py\u001b[0m in \u001b[0;36mmeasure\u001b[0;34m(self, pairs)\u001b[0m\n\u001b[1;32m     42\u001b[0m             \u001b[0mpairs\u001b[0m\u001b[0;34m[\u001b[0m\u001b[0mi\u001b[0m\u001b[0;34m]\u001b[0m\u001b[0;34m[\u001b[0m\u001b[0;36m1\u001b[0m\u001b[0;34m]\u001b[0m\u001b[0;34m.\u001b[0m\u001b[0mmeasure\u001b[0m\u001b[0;34m(\u001b[0m\u001b[0;36m0\u001b[0m\u001b[0;34m,\u001b[0m \u001b[0;36m0\u001b[0m\u001b[0;34m)\u001b[0m\u001b[0;34m\u001b[0m\u001b[0;34m\u001b[0m\u001b[0m\n\u001b[1;32m     43\u001b[0m \u001b[0;34m\u001b[0m\u001b[0m\n\u001b[0;32m---> 44\u001b[0;31m             \u001b[0mbits\u001b[0m \u001b[0;34m=\u001b[0m \u001b[0;34m''\u001b[0m\u001b[0;34m.\u001b[0m\u001b[0mjoin\u001b[0m\u001b[0;34m(\u001b[0m\u001b[0;34m[\u001b[0m \u001b[0mlist\u001b[0m\u001b[0;34m(\u001b[0m\u001b[0mself\u001b[0m\u001b[0;34m.\u001b[0m\u001b[0mbackend\u001b[0m\u001b[0;34m.\u001b[0m\u001b[0mrun\u001b[0m\u001b[0;34m(\u001b[0m\u001b[0mtranspile\u001b[0m\u001b[0;34m(\u001b[0m\u001b[0mcircuit\u001b[0m\u001b[0;34m,\u001b[0m \u001b[0mself\u001b[0m\u001b[0;34m.\u001b[0m\u001b[0mbackend\u001b[0m\u001b[0;34m)\u001b[0m\u001b[0;34m,\u001b[0m \u001b[0mnoise_model\u001b[0m \u001b[0;34m=\u001b[0m \u001b[0mnoise_model\u001b[0m\u001b[0;34m)\u001b[0m\u001b[0;34m.\u001b[0m\u001b[0mresult\u001b[0m\u001b[0;34m(\u001b[0m\u001b[0;34m)\u001b[0m\u001b[0;34m.\u001b[0m\u001b[0mget_counts\u001b[0m\u001b[0;34m(\u001b[0m\u001b[0;34m)\u001b[0m\u001b[0;34m.\u001b[0m\u001b[0mkeys\u001b[0m\u001b[0;34m(\u001b[0m\u001b[0;34m)\u001b[0m\u001b[0;34m)\u001b[0m\u001b[0;34m[\u001b[0m\u001b[0;36m0\u001b[0m\u001b[0;34m]\u001b[0m \u001b[0;32mfor\u001b[0m \u001b[0mcircuit\u001b[0m \u001b[0;32min\u001b[0m \u001b[0mpairs\u001b[0m\u001b[0;34m[\u001b[0m\u001b[0mi\u001b[0m\u001b[0;34m]\u001b[0m \u001b[0;34m]\u001b[0m\u001b[0;34m)\u001b[0m\u001b[0;34m\u001b[0m\u001b[0;34m\u001b[0m\u001b[0m\n\u001b[0m\u001b[1;32m     45\u001b[0m \u001b[0;34m\u001b[0m\u001b[0m\n\u001b[1;32m     46\u001b[0m             \u001b[0;32mif\u001b[0m \u001b[0mbits\u001b[0m\u001b[0;34m[\u001b[0m\u001b[0;36m0\u001b[0m\u001b[0;34m]\u001b[0m \u001b[0;34m==\u001b[0m \u001b[0mbits\u001b[0m\u001b[0;34m[\u001b[0m\u001b[0;36m1\u001b[0m\u001b[0;34m]\u001b[0m\u001b[0;34m:\u001b[0m \u001b[0mdouble_matchings\u001b[0m\u001b[0;34m.\u001b[0m\u001b[0mappend\u001b[0m\u001b[0;34m(\u001b[0m\u001b[0mi\u001b[0m\u001b[0;34m)\u001b[0m\u001b[0;34m\u001b[0m\u001b[0;34m\u001b[0m\u001b[0m\n",
      "\u001b[0;32m~/Desktop/Quantum Cryptography/Tesis/FramesQKD/LL20/bob.py\u001b[0m in \u001b[0;36m<listcomp>\u001b[0;34m(.0)\u001b[0m\n\u001b[1;32m     42\u001b[0m             \u001b[0mpairs\u001b[0m\u001b[0;34m[\u001b[0m\u001b[0mi\u001b[0m\u001b[0;34m]\u001b[0m\u001b[0;34m[\u001b[0m\u001b[0;36m1\u001b[0m\u001b[0;34m]\u001b[0m\u001b[0;34m.\u001b[0m\u001b[0mmeasure\u001b[0m\u001b[0;34m(\u001b[0m\u001b[0;36m0\u001b[0m\u001b[0;34m,\u001b[0m \u001b[0;36m0\u001b[0m\u001b[0;34m)\u001b[0m\u001b[0;34m\u001b[0m\u001b[0;34m\u001b[0m\u001b[0m\n\u001b[1;32m     43\u001b[0m \u001b[0;34m\u001b[0m\u001b[0m\n\u001b[0;32m---> 44\u001b[0;31m             \u001b[0mbits\u001b[0m \u001b[0;34m=\u001b[0m \u001b[0;34m''\u001b[0m\u001b[0;34m.\u001b[0m\u001b[0mjoin\u001b[0m\u001b[0;34m(\u001b[0m\u001b[0;34m[\u001b[0m \u001b[0mlist\u001b[0m\u001b[0;34m(\u001b[0m\u001b[0mself\u001b[0m\u001b[0;34m.\u001b[0m\u001b[0mbackend\u001b[0m\u001b[0;34m.\u001b[0m\u001b[0mrun\u001b[0m\u001b[0;34m(\u001b[0m\u001b[0mtranspile\u001b[0m\u001b[0;34m(\u001b[0m\u001b[0mcircuit\u001b[0m\u001b[0;34m,\u001b[0m \u001b[0mself\u001b[0m\u001b[0;34m.\u001b[0m\u001b[0mbackend\u001b[0m\u001b[0;34m)\u001b[0m\u001b[0;34m,\u001b[0m \u001b[0mnoise_model\u001b[0m \u001b[0;34m=\u001b[0m \u001b[0mnoise_model\u001b[0m\u001b[0;34m)\u001b[0m\u001b[0;34m.\u001b[0m\u001b[0mresult\u001b[0m\u001b[0;34m(\u001b[0m\u001b[0;34m)\u001b[0m\u001b[0;34m.\u001b[0m\u001b[0mget_counts\u001b[0m\u001b[0;34m(\u001b[0m\u001b[0;34m)\u001b[0m\u001b[0;34m.\u001b[0m\u001b[0mkeys\u001b[0m\u001b[0;34m(\u001b[0m\u001b[0;34m)\u001b[0m\u001b[0;34m)\u001b[0m\u001b[0;34m[\u001b[0m\u001b[0;36m0\u001b[0m\u001b[0;34m]\u001b[0m \u001b[0;32mfor\u001b[0m \u001b[0mcircuit\u001b[0m \u001b[0;32min\u001b[0m \u001b[0mpairs\u001b[0m\u001b[0;34m[\u001b[0m\u001b[0mi\u001b[0m\u001b[0;34m]\u001b[0m \u001b[0;34m]\u001b[0m\u001b[0;34m)\u001b[0m\u001b[0;34m\u001b[0m\u001b[0;34m\u001b[0m\u001b[0m\n\u001b[0m\u001b[1;32m     45\u001b[0m \u001b[0;34m\u001b[0m\u001b[0m\n\u001b[1;32m     46\u001b[0m             \u001b[0;32mif\u001b[0m \u001b[0mbits\u001b[0m\u001b[0;34m[\u001b[0m\u001b[0;36m0\u001b[0m\u001b[0;34m]\u001b[0m \u001b[0;34m==\u001b[0m \u001b[0mbits\u001b[0m\u001b[0;34m[\u001b[0m\u001b[0;36m1\u001b[0m\u001b[0;34m]\u001b[0m\u001b[0;34m:\u001b[0m \u001b[0mdouble_matchings\u001b[0m\u001b[0;34m.\u001b[0m\u001b[0mappend\u001b[0m\u001b[0;34m(\u001b[0m\u001b[0mi\u001b[0m\u001b[0;34m)\u001b[0m\u001b[0;34m\u001b[0m\u001b[0;34m\u001b[0m\u001b[0m\n",
      "\u001b[0;32m~/anaconda3/envs/sage/lib/python3.9/site-packages/qiskit/compiler/transpiler.py\u001b[0m in \u001b[0;36mtranspile\u001b[0;34m(circuits, backend, basis_gates, inst_map, coupling_map, backend_properties, initial_layout, layout_method, routing_method, translation_method, scheduling_method, instruction_durations, dt, approximation_degree, timing_constraints, seed_transpiler, optimization_level, callback, output_name, unitary_synthesis_method, unitary_synthesis_plugin_config, target, hls_config, init_method, optimization_method, ignore_backend_supplied_default_methods, num_processes)\u001b[0m\n\u001b[1;32m    375\u001b[0m \u001b[0;34m\u001b[0m\u001b[0m\n\u001b[1;32m    376\u001b[0m     \u001b[0moutput_name\u001b[0m \u001b[0;34m=\u001b[0m \u001b[0m_parse_output_name\u001b[0m\u001b[0;34m(\u001b[0m\u001b[0moutput_name\u001b[0m\u001b[0;34m,\u001b[0m \u001b[0mcircuits\u001b[0m\u001b[0;34m)\u001b[0m\u001b[0;34m\u001b[0m\u001b[0;34m\u001b[0m\u001b[0m\n\u001b[0;32m--> 377\u001b[0;31m     \u001b[0minst_map\u001b[0m \u001b[0;34m=\u001b[0m \u001b[0m_parse_inst_map\u001b[0m\u001b[0;34m(\u001b[0m\u001b[0minst_map\u001b[0m\u001b[0;34m,\u001b[0m \u001b[0mbackend\u001b[0m\u001b[0;34m)\u001b[0m\u001b[0;34m\u001b[0m\u001b[0;34m\u001b[0m\u001b[0m\n\u001b[0m\u001b[1;32m    378\u001b[0m \u001b[0;34m\u001b[0m\u001b[0m\n\u001b[1;32m    379\u001b[0m     \u001b[0m_check_circuits_coupling_map\u001b[0m\u001b[0;34m(\u001b[0m\u001b[0mcircuits\u001b[0m\u001b[0;34m,\u001b[0m \u001b[0mcoupling_map\u001b[0m\u001b[0;34m,\u001b[0m \u001b[0mbackend\u001b[0m\u001b[0;34m)\u001b[0m\u001b[0;34m\u001b[0m\u001b[0;34m\u001b[0m\u001b[0m\n",
      "\u001b[0;32m~/anaconda3/envs/sage/lib/python3.9/site-packages/qiskit/compiler/transpiler.py\u001b[0m in \u001b[0;36m_parse_inst_map\u001b[0;34m(inst_map, backend)\u001b[0m\n\u001b[1;32m    455\u001b[0m     \u001b[0;31m# try getting inst_map from user, else backend\u001b[0m\u001b[0;34m\u001b[0m\u001b[0;34m\u001b[0m\u001b[0m\n\u001b[1;32m    456\u001b[0m     \u001b[0;32mif\u001b[0m \u001b[0minst_map\u001b[0m \u001b[0;32mis\u001b[0m \u001b[0;32mNone\u001b[0m \u001b[0;32mand\u001b[0m \u001b[0mbackend\u001b[0m \u001b[0;32mis\u001b[0m \u001b[0;32mnot\u001b[0m \u001b[0;32mNone\u001b[0m\u001b[0;34m:\u001b[0m\u001b[0;34m\u001b[0m\u001b[0;34m\u001b[0m\u001b[0m\n\u001b[0;32m--> 457\u001b[0;31m         \u001b[0minst_map\u001b[0m \u001b[0;34m=\u001b[0m \u001b[0mbackend\u001b[0m\u001b[0;34m.\u001b[0m\u001b[0mtarget\u001b[0m\u001b[0;34m.\u001b[0m\u001b[0minstruction_schedule_map\u001b[0m\u001b[0;34m(\u001b[0m\u001b[0;34m)\u001b[0m\u001b[0;34m\u001b[0m\u001b[0;34m\u001b[0m\u001b[0m\n\u001b[0m\u001b[1;32m    458\u001b[0m     \u001b[0;32mreturn\u001b[0m \u001b[0minst_map\u001b[0m\u001b[0;34m\u001b[0m\u001b[0;34m\u001b[0m\u001b[0m\n\u001b[1;32m    459\u001b[0m \u001b[0;34m\u001b[0m\u001b[0m\n",
      "\u001b[0;32m~/anaconda3/envs/sage/lib/python3.9/site-packages/qiskit_aer/backends/aerbackend.py\u001b[0m in \u001b[0;36mtarget\u001b[0;34m(self)\u001b[0m\n\u001b[1;32m    346\u001b[0m             \u001b[0;32mreturn\u001b[0m \u001b[0mself\u001b[0m\u001b[0;34m.\u001b[0m\u001b[0m_target\u001b[0m\u001b[0;34m\u001b[0m\u001b[0;34m\u001b[0m\u001b[0m\n\u001b[1;32m    347\u001b[0m \u001b[0;34m\u001b[0m\u001b[0m\n\u001b[0;32m--> 348\u001b[0;31m         \u001b[0mtgt\u001b[0m \u001b[0;34m=\u001b[0m \u001b[0mconvert_to_target\u001b[0m\u001b[0;34m(\u001b[0m\u001b[0mself\u001b[0m\u001b[0;34m.\u001b[0m\u001b[0mconfiguration\u001b[0m\u001b[0;34m(\u001b[0m\u001b[0;34m)\u001b[0m\u001b[0;34m,\u001b[0m \u001b[0mself\u001b[0m\u001b[0;34m.\u001b[0m\u001b[0mproperties\u001b[0m\u001b[0;34m(\u001b[0m\u001b[0;34m)\u001b[0m\u001b[0;34m,\u001b[0m \u001b[0;32mNone\u001b[0m\u001b[0;34m,\u001b[0m \u001b[0mNAME_MAPPING\u001b[0m\u001b[0;34m)\u001b[0m\u001b[0;34m\u001b[0m\u001b[0;34m\u001b[0m\u001b[0m\n\u001b[0m\u001b[1;32m    349\u001b[0m         \u001b[0;32mif\u001b[0m \u001b[0mself\u001b[0m\u001b[0;34m.\u001b[0m\u001b[0m_coupling_map\u001b[0m \u001b[0;32mis\u001b[0m \u001b[0;32mnot\u001b[0m \u001b[0;32mNone\u001b[0m\u001b[0;34m:\u001b[0m\u001b[0;34m\u001b[0m\u001b[0;34m\u001b[0m\u001b[0m\n\u001b[1;32m    350\u001b[0m             \u001b[0mtgt\u001b[0m\u001b[0;34m.\u001b[0m\u001b[0m_coupling_graph\u001b[0m \u001b[0;34m=\u001b[0m \u001b[0mself\u001b[0m\u001b[0;34m.\u001b[0m\u001b[0m_coupling_map\u001b[0m\u001b[0;34m.\u001b[0m\u001b[0mgraph\u001b[0m\u001b[0;34m.\u001b[0m\u001b[0mcopy\u001b[0m\u001b[0;34m(\u001b[0m\u001b[0;34m)\u001b[0m\u001b[0;34m\u001b[0m\u001b[0;34m\u001b[0m\u001b[0m\n",
      "\u001b[0;32m~/anaconda3/envs/sage/lib/python3.9/site-packages/qiskit/providers/backend_compat.py\u001b[0m in \u001b[0;36mconvert_to_target\u001b[0;34m(configuration, properties, defaults, custom_name_mapping, add_delay, filter_faulty)\u001b[0m\n\u001b[1;32m     72\u001b[0m \u001b[0;34m\u001b[0m\u001b[0m\n\u001b[1;32m     73\u001b[0m     \u001b[0;31m# Load Qiskit object representation\u001b[0m\u001b[0;34m\u001b[0m\u001b[0;34m\u001b[0m\u001b[0m\n\u001b[0;32m---> 74\u001b[0;31m     \u001b[0mqiskit_inst_mapping\u001b[0m \u001b[0;34m=\u001b[0m \u001b[0mget_standard_gate_name_mapping\u001b[0m\u001b[0;34m(\u001b[0m\u001b[0;34m)\u001b[0m\u001b[0;34m\u001b[0m\u001b[0;34m\u001b[0m\u001b[0m\n\u001b[0m\u001b[1;32m     75\u001b[0m     \u001b[0;32mif\u001b[0m \u001b[0mcustom_name_mapping\u001b[0m\u001b[0;34m:\u001b[0m\u001b[0;34m\u001b[0m\u001b[0;34m\u001b[0m\u001b[0m\n\u001b[1;32m     76\u001b[0m         \u001b[0mqiskit_inst_mapping\u001b[0m\u001b[0;34m.\u001b[0m\u001b[0mupdate\u001b[0m\u001b[0;34m(\u001b[0m\u001b[0mcustom_name_mapping\u001b[0m\u001b[0;34m)\u001b[0m\u001b[0;34m\u001b[0m\u001b[0;34m\u001b[0m\u001b[0m\n",
      "\u001b[0;32m~/anaconda3/envs/sage/lib/python3.9/site-packages/qiskit/circuit/library/standard_gates/__init__.py\u001b[0m in \u001b[0;36mget_standard_gate_name_mapping\u001b[0;34m()\u001b[0m\n\u001b[1;32m     63\u001b[0m         \u001b[0mCXGate\u001b[0m\u001b[0;34m(\u001b[0m\u001b[0;34m)\u001b[0m\u001b[0;34m,\u001b[0m\u001b[0;34m\u001b[0m\u001b[0;34m\u001b[0m\u001b[0m\n\u001b[1;32m     64\u001b[0m         \u001b[0mRZGate\u001b[0m\u001b[0;34m(\u001b[0m\u001b[0mParameter\u001b[0m\u001b[0;34m(\u001b[0m\u001b[0;34m\"λ\"\u001b[0m\u001b[0;34m)\u001b[0m\u001b[0;34m)\u001b[0m\u001b[0;34m,\u001b[0m\u001b[0;34m\u001b[0m\u001b[0;34m\u001b[0m\u001b[0m\n\u001b[0;32m---> 65\u001b[0;31m         \u001b[0mRGate\u001b[0m\u001b[0;34m(\u001b[0m\u001b[0mParameter\u001b[0m\u001b[0;34m(\u001b[0m\u001b[0;34m\"ϴ\"\u001b[0m\u001b[0;34m)\u001b[0m\u001b[0;34m,\u001b[0m \u001b[0mParameter\u001b[0m\u001b[0;34m(\u001b[0m\u001b[0;34m\"φ\"\u001b[0m\u001b[0;34m)\u001b[0m\u001b[0;34m)\u001b[0m\u001b[0;34m,\u001b[0m\u001b[0;34m\u001b[0m\u001b[0;34m\u001b[0m\u001b[0m\n\u001b[0m\u001b[1;32m     66\u001b[0m         \u001b[0mReset\u001b[0m\u001b[0;34m(\u001b[0m\u001b[0;34m)\u001b[0m\u001b[0;34m,\u001b[0m\u001b[0;34m\u001b[0m\u001b[0;34m\u001b[0m\u001b[0m\n\u001b[1;32m     67\u001b[0m         \u001b[0mC3SXGate\u001b[0m\u001b[0;34m(\u001b[0m\u001b[0;34m)\u001b[0m\u001b[0;34m,\u001b[0m\u001b[0;34m\u001b[0m\u001b[0;34m\u001b[0m\u001b[0m\n",
      "\u001b[0;32m~/anaconda3/envs/sage/lib/python3.9/site-packages/qiskit/circuit/parameter.py\u001b[0m in \u001b[0;36m__init__\u001b[0;34m(self, name, uuid)\u001b[0m\n\u001b[1;32m     81\u001b[0m         \"\"\"\n\u001b[1;32m     82\u001b[0m         \u001b[0mself\u001b[0m\u001b[0;34m.\u001b[0m\u001b[0m_name\u001b[0m \u001b[0;34m=\u001b[0m \u001b[0mname\u001b[0m\u001b[0;34m\u001b[0m\u001b[0;34m\u001b[0m\u001b[0m\n\u001b[0;32m---> 83\u001b[0;31m         \u001b[0mself\u001b[0m\u001b[0;34m.\u001b[0m\u001b[0m_uuid\u001b[0m \u001b[0;34m=\u001b[0m \u001b[0muuid4\u001b[0m\u001b[0;34m(\u001b[0m\u001b[0;34m)\u001b[0m \u001b[0;32mif\u001b[0m \u001b[0muuid\u001b[0m \u001b[0;32mis\u001b[0m \u001b[0;32mNone\u001b[0m \u001b[0;32melse\u001b[0m \u001b[0muuid\u001b[0m\u001b[0;34m\u001b[0m\u001b[0;34m\u001b[0m\u001b[0m\n\u001b[0m\u001b[1;32m     84\u001b[0m         \u001b[0msymbol\u001b[0m \u001b[0;34m=\u001b[0m \u001b[0msymengine\u001b[0m\u001b[0;34m.\u001b[0m\u001b[0mSymbol\u001b[0m\u001b[0;34m(\u001b[0m\u001b[0mname\u001b[0m\u001b[0;34m)\u001b[0m\u001b[0;34m\u001b[0m\u001b[0;34m\u001b[0m\u001b[0m\n\u001b[1;32m     85\u001b[0m \u001b[0;34m\u001b[0m\u001b[0m\n",
      "\u001b[0;32m~/anaconda3/envs/sage/lib/python3.9/uuid.py\u001b[0m in \u001b[0;36muuid4\u001b[0;34m()\u001b[0m\n\u001b[1;32m    713\u001b[0m \u001b[0;32mdef\u001b[0m \u001b[0muuid4\u001b[0m\u001b[0;34m(\u001b[0m\u001b[0;34m)\u001b[0m\u001b[0;34m:\u001b[0m\u001b[0;34m\u001b[0m\u001b[0;34m\u001b[0m\u001b[0m\n\u001b[1;32m    714\u001b[0m     \u001b[0;34m\"\"\"Generate a random UUID.\"\"\"\u001b[0m\u001b[0;34m\u001b[0m\u001b[0;34m\u001b[0m\u001b[0m\n\u001b[0;32m--> 715\u001b[0;31m     \u001b[0;32mreturn\u001b[0m \u001b[0mUUID\u001b[0m\u001b[0;34m(\u001b[0m\u001b[0mbytes\u001b[0m\u001b[0;34m=\u001b[0m\u001b[0mos\u001b[0m\u001b[0;34m.\u001b[0m\u001b[0murandom\u001b[0m\u001b[0;34m(\u001b[0m\u001b[0;36m16\u001b[0m\u001b[0;34m)\u001b[0m\u001b[0;34m,\u001b[0m \u001b[0mversion\u001b[0m\u001b[0;34m=\u001b[0m\u001b[0;36m4\u001b[0m\u001b[0;34m)\u001b[0m\u001b[0;34m\u001b[0m\u001b[0;34m\u001b[0m\u001b[0m\n\u001b[0m\u001b[1;32m    716\u001b[0m \u001b[0;34m\u001b[0m\u001b[0m\n\u001b[1;32m    717\u001b[0m \u001b[0;32mdef\u001b[0m \u001b[0muuid5\u001b[0m\u001b[0;34m(\u001b[0m\u001b[0mnamespace\u001b[0m\u001b[0;34m,\u001b[0m \u001b[0mname\u001b[0m\u001b[0;34m)\u001b[0m\u001b[0;34m:\u001b[0m\u001b[0;34m\u001b[0m\u001b[0;34m\u001b[0m\u001b[0m\n",
      "\u001b[0;31mKeyboardInterrupt\u001b[0m: "
     ]
    }
   ],
   "source": [
    "VALID_SS = [\n",
    "    \"00,00\",\n",
    "    \"00,11\",\n",
    "    \"01,10\",\n",
    "    \"01,01\",\n",
    "    \"10,01\",\n",
    "    \"10,10\",\n",
    "    \"11,11\"\n",
    "]\n",
    "\n",
    "try:\n",
    "    df = pd.read_csv(\"results_error_free.csv\")\n",
    "except:\n",
    "    file = open(\"results_error_free.csv\", \"w\")\n",
    "    file.write(\"double_matchings,bits_recovered,bits,%\")\n",
    "    file.close()\n",
    "    df = pd.read_csv(\"results_error_free.csv\")\n",
    "\n",
    "while True:\n",
    "    pairs = randint(8, 256)\n",
    "    results = key_recovery_metrics(execute_qkd, Alice, Bob, pairs, attack, 2, VALID_SS)\n",
    "    \n",
    "    if not results: continue\n",
    "\n",
    "    df.loc[len(df)] = [ len(results[\"double_matchings\"]), results[\"bits_recovered\"], results[\"bits\"], results[\"%\"] ]\n",
    "    \n",
    "    df.to_csv(\"results_error_free.csv\", index = False)"
   ]
  },
  {
   "cell_type": "markdown",
   "id": "1509c68c-f2eb-4b29-a741-14868dcf0434",
   "metadata": {},
   "source": [
    "* Assuming errors in the quantum channel"
   ]
  },
  {
   "cell_type": "code",
   "execution_count": 3,
   "id": "f04a8636-695f-4925-bd26-716a33a02b9d",
   "metadata": {
    "collapsed": true,
    "jupyter": {
     "outputs_hidden": true
    },
    "scrolled": true
   },
   "outputs": [
    {
     "name": "stdout",
     "output_type": "stream",
     "text": [
      "Key exchange failed, both keys are not equal. Please, try again.\n",
      "Key exchange failed, both keys are not equal. Please, try again.\n",
      "Key exchange failed, both keys are not equal. Please, try again.\n",
      "Key exchange failed, both keys are not equal. Please, try again.\n",
      "Key exchange failed, both keys are not equal. Please, try again.\n",
      "Key exchange failed, both keys are not equal. Please, try again.\n",
      "Key exchange failed, both keys are not equal. Please, try again.\n",
      "Key exchange failed, both keys are not equal. Please, try again.\n",
      "Key exchange failed, both keys are not equal. Please, try again.\n",
      "Key exchange failed, both keys are not equal. Please, try again.\n",
      "Key exchange failed, both keys are not equal. Please, try again.\n",
      "Key exchange failed, both keys are not equal. Please, try again.\n",
      "Key exchange failed, both keys are not equal. Please, try again.\n",
      "Key exchange failed, both keys are not equal. Please, try again.\n",
      "Key exchange failed, both keys are not equal. Please, try again.\n",
      "Key exchange failed, both keys are not equal. Please, try again.\n",
      "Key exchange failed, both keys are not equal. Please, try again.\n",
      "Key exchange failed, both keys are not equal. Please, try again.\n",
      "Key exchange failed, both keys are not equal. Please, try again.\n",
      "Key exchange failed, both keys are not equal. Please, try again.\n",
      "Key exchange failed, both keys are not equal. Please, try again.\n",
      "Key exchange failed, both keys are not equal. Please, try again.\n",
      "Key exchange failed, both keys are not equal. Please, try again.\n",
      "Key exchange failed, both keys are not equal. Please, try again.\n",
      "Key exchange failed, both keys are not equal. Please, try again.\n",
      "Key exchange failed, both keys are not equal. Please, try again.\n",
      "Key exchange failed, both keys are not equal. Please, try again.\n",
      "Key exchange failed, both keys are not equal. Please, try again.\n",
      "Key exchange failed, both keys are not equal. Please, try again.\n",
      "Key exchange failed, both keys are not equal. Please, try again.\n",
      "Key exchange failed, both keys are not equal. Please, try again.\n",
      "Key exchange failed, both keys are not equal. Please, try again.\n",
      "Key exchange failed, both keys are not equal. Please, try again.\n",
      "Key exchange failed, both keys are not equal. Please, try again.\n",
      "Key exchange failed, both keys are not equal. Please, try again.\n",
      "Key exchange failed, both keys are not equal. Please, try again.\n",
      "Key exchange failed, both keys are not equal. Please, try again.\n",
      "Key exchange failed, both keys are not equal. Please, try again.\n",
      "Key exchange failed, both keys are not equal. Please, try again.\n",
      "Key exchange failed, both keys are not equal. Please, try again.\n",
      "Key exchange failed, both keys are not equal. Please, try again.\n",
      "Key exchange failed, both keys are not equal. Please, try again.\n",
      "Key exchange failed, both keys are not equal. Please, try again.\n",
      "Key exchange failed, both keys are not equal. Please, try again.\n",
      "Key exchange failed, both keys are not equal. Please, try again.\n",
      "Key exchange failed, both keys are not equal. Please, try again.\n",
      "Key exchange failed, both keys are not equal. Please, try again.\n",
      "Key exchange failed, both keys are not equal. Please, try again.\n",
      "Key exchange failed, both keys are not equal. Please, try again.\n",
      "Key exchange failed, both keys are not equal. Please, try again.\n",
      "Key exchange failed, both keys are not equal. Please, try again.\n",
      "Key exchange failed, both keys are not equal. Please, try again.\n",
      "Key exchange failed, both keys are not equal. Please, try again.\n",
      "Key exchange failed, both keys are not equal. Please, try again.\n",
      "Key exchange failed, both keys are not equal. Please, try again.\n",
      "Key exchange failed, both keys are not equal. Please, try again.\n",
      "Key exchange failed, both keys are not equal. Please, try again.\n",
      "Key exchange failed, both keys are not equal. Please, try again.\n",
      "Key exchange failed, both keys are not equal. Please, try again.\n",
      "Key exchange failed, both keys are not equal. Please, try again.\n",
      "Key exchange failed, both keys are not equal. Please, try again.\n",
      "Key exchange failed, both keys are not equal. Please, try again.\n",
      "Key exchange failed, both keys are not equal. Please, try again.\n",
      "Key exchange failed, both keys are not equal. Please, try again.\n",
      "Key exchange failed, both keys are not equal. Please, try again.\n",
      "Key exchange failed, both keys are not equal. Please, try again.\n",
      "Key exchange failed, both keys are not equal. Please, try again.\n",
      "Key exchange failed, both keys are not equal. Please, try again.\n",
      "Key exchange failed, both keys are not equal. Please, try again.\n",
      "Key exchange failed, both keys are not equal. Please, try again.\n",
      "Key exchange failed, both keys are not equal. Please, try again.\n",
      "Key exchange failed, both keys are not equal. Please, try again.\n",
      "Key exchange failed, both keys are not equal. Please, try again.\n",
      "Key exchange failed, both keys are not equal. Please, try again.\n",
      "Key exchange failed, both keys are not equal. Please, try again.\n",
      "Key exchange failed, both keys are not equal. Please, try again.\n",
      "Key exchange failed, both keys are not equal. Please, try again.\n",
      "Key exchange failed, both keys are not equal. Please, try again.\n",
      "Key exchange failed, both keys are not equal. Please, try again.\n",
      "Key exchange failed, both keys are not equal. Please, try again.\n",
      "Key exchange failed, both keys are not equal. Please, try again.\n",
      "Key exchange failed, both keys are not equal. Please, try again.\n",
      "Key exchange failed, both keys are not equal. Please, try again.\n",
      "Key exchange failed, both keys are not equal. Please, try again.\n",
      "Key exchange failed, both keys are not equal. Please, try again.\n",
      "Key exchange failed, both keys are not equal. Please, try again.\n",
      "Key exchange failed, both keys are not equal. Please, try again.\n",
      "Key exchange failed, both keys are not equal. Please, try again.\n",
      "Key exchange failed, both keys are not equal. Please, try again.\n",
      "Key exchange failed, both keys are not equal. Please, try again.\n",
      "Key exchange failed, both keys are not equal. Please, try again.\n",
      "Key exchange failed, both keys are not equal. Please, try again.\n",
      "Key exchange failed, both keys are not equal. Please, try again.\n",
      "Key exchange failed, both keys are not equal. Please, try again.\n",
      "Key exchange failed, both keys are not equal. Please, try again.\n",
      "Key exchange failed, both keys are not equal. Please, try again.\n",
      "Key exchange failed, both keys are not equal. Please, try again.\n",
      "Key exchange failed, both keys are not equal. Please, try again.\n",
      "Key exchange failed, both keys are not equal. Please, try again.\n",
      "Key exchange failed, both keys are not equal. Please, try again.\n",
      "Key exchange failed, both keys are not equal. Please, try again.\n",
      "Key exchange failed, both keys are not equal. Please, try again.\n",
      "Key exchange failed, both keys are not equal. Please, try again.\n",
      "Key exchange failed, both keys are not equal. Please, try again.\n",
      "Key exchange failed, both keys are not equal. Please, try again.\n",
      "Key exchange failed, both keys are not equal. Please, try again.\n",
      "Key exchange failed, both keys are not equal. Please, try again.\n",
      "Key exchange failed, both keys are not equal. Please, try again.\n",
      "Key exchange failed, both keys are not equal. Please, try again.\n",
      "Key exchange failed, both keys are not equal. Please, try again.\n",
      "Key exchange failed, both keys are not equal. Please, try again.\n",
      "Key exchange failed, both keys are not equal. Please, try again.\n",
      "Key exchange failed, both keys are not equal. Please, try again.\n",
      "Key exchange failed, both keys are not equal. Please, try again.\n",
      "Key exchange failed, both keys are not equal. Please, try again.\n",
      "Key exchange failed, both keys are not equal. Please, try again.\n",
      "Key exchange failed, both keys are not equal. Please, try again.\n",
      "Key exchange failed, both keys are not equal. Please, try again.\n",
      "Key exchange failed, both keys are not equal. Please, try again.\n",
      "Key exchange failed, both keys are not equal. Please, try again.\n",
      "Key exchange failed, both keys are not equal. Please, try again.\n",
      "Key exchange failed, both keys are not equal. Please, try again.\n",
      "Key exchange failed, both keys are not equal. Please, try again.\n",
      "Key exchange failed, both keys are not equal. Please, try again.\n",
      "Key exchange failed, both keys are not equal. Please, try again.\n",
      "Key exchange failed, both keys are not equal. Please, try again.\n",
      "Key exchange failed, both keys are not equal. Please, try again.\n",
      "Key exchange failed, both keys are not equal. Please, try again.\n",
      "Key exchange failed, both keys are not equal. Please, try again.\n",
      "Key exchange failed, both keys are not equal. Please, try again.\n",
      "Key exchange failed, both keys are not equal. Please, try again.\n",
      "Key exchange failed, both keys are not equal. Please, try again.\n",
      "Key exchange failed, both keys are not equal. Please, try again.\n",
      "Key exchange failed, both keys are not equal. Please, try again.\n",
      "Key exchange failed, both keys are not equal. Please, try again.\n",
      "Key exchange failed, both keys are not equal. Please, try again.\n",
      "Key exchange failed, both keys are not equal. Please, try again.\n",
      "Key exchange failed, both keys are not equal. Please, try again.\n",
      "Key exchange failed, both keys are not equal. Please, try again.\n",
      "Key exchange failed, both keys are not equal. Please, try again.\n",
      "Key exchange failed, both keys are not equal. Please, try again.\n",
      "Key exchange failed, both keys are not equal. Please, try again.\n",
      "Key exchange failed, both keys are not equal. Please, try again.\n",
      "Key exchange failed, both keys are not equal. Please, try again.\n",
      "Key exchange failed, both keys are not equal. Please, try again.\n",
      "Key exchange failed, both keys are not equal. Please, try again.\n",
      "Key exchange failed, both keys are not equal. Please, try again.\n",
      "Key exchange failed, both keys are not equal. Please, try again.\n",
      "Key exchange failed, both keys are not equal. Please, try again.\n",
      "Key exchange failed, both keys are not equal. Please, try again.\n"
     ]
    },
    {
     "name": "stderr",
     "output_type": "stream",
     "text": [
      "Exception ignored in: <bound method IPythonKernel._clean_thread_parent_frames of <ipykernel.ipkernel.IPythonKernel object at 0x7f82a5c27250>>\n",
      "Traceback (most recent call last):\n",
      "  File \"/home/kali/anaconda3/envs/sage/lib/python3.9/site-packages/ipykernel/ipkernel.py\", line 775, in _clean_thread_parent_frames\n",
      "    def _clean_thread_parent_frames(\n",
      "KeyboardInterrupt: \n"
     ]
    },
    {
     "name": "stdout",
     "output_type": "stream",
     "text": [
      "Key exchange failed, both keys are not equal. Please, try again.\n",
      "Key exchange failed, both keys are not equal. Please, try again.\n",
      "Key exchange failed, both keys are not equal. Please, try again.\n",
      "Key exchange failed, both keys are not equal. Please, try again.\n",
      "Key exchange failed, both keys are not equal. Please, try again.\n",
      "Key exchange failed, both keys are not equal. Please, try again.\n",
      "Key exchange failed, both keys are not equal. Please, try again.\n",
      "Key exchange failed, both keys are not equal. Please, try again.\n",
      "Key exchange failed, both keys are not equal. Please, try again.\n",
      "Key exchange failed, both keys are not equal. Please, try again.\n",
      "Key exchange failed, there's no usable frames. Please, try again.\n",
      "Key exchange failed, both keys are not equal. Please, try again.\n",
      "Key exchange failed, both keys are not equal. Please, try again.\n",
      "Key exchange failed, both keys are not equal. Please, try again.\n",
      "Key exchange failed, both keys are not equal. Please, try again.\n",
      "Key exchange failed, both keys are not equal. Please, try again.\n",
      "Key exchange failed, both keys are not equal. Please, try again.\n",
      "Key exchange failed, both keys are not equal. Please, try again.\n",
      "Key exchange failed, both keys are not equal. Please, try again.\n",
      "Key exchange failed, both keys are not equal. Please, try again.\n",
      "Key exchange failed, both keys are not equal. Please, try again.\n",
      "Key exchange failed, both keys are not equal. Please, try again.\n",
      "Key exchange failed, both keys are not equal. Please, try again.\n",
      "Key exchange failed, both keys are not equal. Please, try again.\n",
      "Key exchange failed, both keys are not equal. Please, try again.\n",
      "Key exchange failed, both keys are not equal. Please, try again.\n",
      "Key exchange failed, both keys are not equal. Please, try again.\n",
      "Key exchange failed, both keys are not equal. Please, try again.\n",
      "Key exchange failed, both keys are not equal. Please, try again.\n",
      "Key exchange failed, both keys are not equal. Please, try again.\n",
      "Key exchange failed, both keys are not equal. Please, try again.\n",
      "Key exchange failed, both keys are not equal. Please, try again.\n",
      "Key exchange failed, both keys are not equal. Please, try again.\n",
      "Key exchange failed, both keys are not equal. Please, try again.\n",
      "Key exchange failed, both keys are not equal. Please, try again.\n",
      "Key exchange failed, both keys are not equal. Please, try again.\n",
      "Key exchange failed, both keys are not equal. Please, try again.\n",
      "Key exchange failed, both keys are not equal. Please, try again.\n",
      "Key exchange failed, both keys are not equal. Please, try again.\n",
      "Key exchange failed, both keys are not equal. Please, try again.\n",
      "Key exchange failed, both keys are not equal. Please, try again.\n",
      "Key exchange failed, both keys are not equal. Please, try again.\n",
      "Key exchange failed, both keys are not equal. Please, try again.\n",
      "Key exchange failed, both keys are not equal. Please, try again.\n",
      "Key exchange failed, both keys are not equal. Please, try again.\n",
      "Key exchange failed, both keys are not equal. Please, try again.\n",
      "Key exchange failed, both keys are not equal. Please, try again.\n",
      "Key exchange failed, both keys are not equal. Please, try again.\n",
      "Key exchange failed, both keys are not equal. Please, try again.\n",
      "Key exchange failed, both keys are not equal. Please, try again.\n"
     ]
    },
    {
     "ename": "KeyboardInterrupt",
     "evalue": "",
     "output_type": "error",
     "traceback": [
      "\u001b[0;31m---------------------------------------------------------------------------\u001b[0m",
      "\u001b[0;31mKeyboardInterrupt\u001b[0m                         Traceback (most recent call last)",
      "\u001b[0;32m/tmp/ipykernel_18042/3425259785.py\u001b[0m in \u001b[0;36m<cell line: 15>\u001b[0;34m()\u001b[0m\n\u001b[1;32m     14\u001b[0m \u001b[0;32mwhile\u001b[0m \u001b[0;32mTrue\u001b[0m\u001b[0;34m:\u001b[0m\u001b[0;34m\u001b[0m\u001b[0;34m\u001b[0m\u001b[0m\n\u001b[1;32m     15\u001b[0m     \u001b[0mpairs\u001b[0m \u001b[0;34m=\u001b[0m \u001b[0mrandint\u001b[0m\u001b[0;34m(\u001b[0m\u001b[0;36m8\u001b[0m\u001b[0;34m,\u001b[0m \u001b[0;36m256\u001b[0m\u001b[0;34m)\u001b[0m\u001b[0;34m\u001b[0m\u001b[0;34m\u001b[0m\u001b[0m\n\u001b[0;32m---> 16\u001b[0;31m     \u001b[0mresults\u001b[0m \u001b[0;34m=\u001b[0m \u001b[0mkey_recovery_metrics\u001b[0m\u001b[0;34m(\u001b[0m\u001b[0mexecute_qkd\u001b[0m\u001b[0;34m,\u001b[0m \u001b[0mAlice\u001b[0m\u001b[0;34m,\u001b[0m \u001b[0mBob\u001b[0m\u001b[0;34m,\u001b[0m \u001b[0mpairs\u001b[0m\u001b[0;34m,\u001b[0m \u001b[0mattack\u001b[0m\u001b[0;34m,\u001b[0m \u001b[0;36m2\u001b[0m\u001b[0;34m,\u001b[0m \u001b[0mVALID_SS\u001b[0m\u001b[0;34m,\u001b[0m \u001b[0mdepolarize_probability\u001b[0m \u001b[0;34m=\u001b[0m \u001b[0;36m1\u001b[0m\u001b[0;34m)\u001b[0m\u001b[0;34m\u001b[0m\u001b[0;34m\u001b[0m\u001b[0m\n\u001b[0m\u001b[1;32m     17\u001b[0m \u001b[0;34m\u001b[0m\u001b[0m\n\u001b[1;32m     18\u001b[0m     \u001b[0;32mif\u001b[0m \u001b[0;32mnot\u001b[0m \u001b[0mresults\u001b[0m\u001b[0;34m:\u001b[0m \u001b[0;32mcontinue\u001b[0m\u001b[0;34m\u001b[0m\u001b[0;34m\u001b[0m\u001b[0m\n",
      "\u001b[0;32m~/Desktop/Quantum Cryptography/Tesis/FramesQKD/LL20/../metrics.py\u001b[0m in \u001b[0;36mkey_recovery_metrics\u001b[0;34m(execute_qkd, Alice, Bob, pairs, Attack, dim, VALID_SS, DEBUG_QKD, depolarize_probability, DEBUG_ATCK)\u001b[0m\n\u001b[1;32m      1\u001b[0m \u001b[0;32mdef\u001b[0m \u001b[0mkey_recovery_metrics\u001b[0m\u001b[0;34m(\u001b[0m\u001b[0mexecute_qkd\u001b[0m\u001b[0;34m,\u001b[0m \u001b[0mAlice\u001b[0m\u001b[0;34m,\u001b[0m \u001b[0mBob\u001b[0m\u001b[0;34m,\u001b[0m \u001b[0mpairs\u001b[0m\u001b[0;34m,\u001b[0m \u001b[0mAttack\u001b[0m\u001b[0;34m,\u001b[0m \u001b[0mdim\u001b[0m\u001b[0;34m,\u001b[0m \u001b[0mVALID_SS\u001b[0m\u001b[0;34m,\u001b[0m \u001b[0mDEBUG_QKD\u001b[0m \u001b[0;34m=\u001b[0m \u001b[0;32mFalse\u001b[0m\u001b[0;34m,\u001b[0m \u001b[0mdepolarize_probability\u001b[0m \u001b[0;34m=\u001b[0m \u001b[0;36m0\u001b[0m\u001b[0;34m,\u001b[0m \u001b[0mDEBUG_ATCK\u001b[0m \u001b[0;34m=\u001b[0m \u001b[0;32mFalse\u001b[0m\u001b[0;34m)\u001b[0m\u001b[0;34m:\u001b[0m\u001b[0;34m\u001b[0m\u001b[0;34m\u001b[0m\u001b[0m\n\u001b[0;32m----> 2\u001b[0;31m     \u001b[0mpublic\u001b[0m\u001b[0;34m,\u001b[0m \u001b[0mprivate\u001b[0m \u001b[0;34m=\u001b[0m \u001b[0mexecute_qkd\u001b[0m\u001b[0;34m(\u001b[0m\u001b[0mAlice\u001b[0m\u001b[0;34m,\u001b[0m \u001b[0mBob\u001b[0m\u001b[0;34m,\u001b[0m \u001b[0mpairs\u001b[0m\u001b[0;34m,\u001b[0m \u001b[0mDEBUG_QKD\u001b[0m\u001b[0;34m,\u001b[0m \u001b[0mdepolarize_probability\u001b[0m\u001b[0;34m)\u001b[0m\u001b[0;34m\u001b[0m\u001b[0;34m\u001b[0m\u001b[0m\n\u001b[0m\u001b[1;32m      3\u001b[0m \u001b[0;34m\u001b[0m\u001b[0m\n\u001b[1;32m      4\u001b[0m     \u001b[0;32mif\u001b[0m \u001b[0;32mnot\u001b[0m \u001b[0mpublic\u001b[0m \u001b[0;32mand\u001b[0m \u001b[0;32mnot\u001b[0m \u001b[0mprivate\u001b[0m\u001b[0;34m:\u001b[0m \u001b[0;32mreturn\u001b[0m \u001b[0;32mNone\u001b[0m\u001b[0;34m\u001b[0m\u001b[0;34m\u001b[0m\u001b[0m\n\u001b[1;32m      5\u001b[0m \u001b[0;34m\u001b[0m\u001b[0m\n",
      "\u001b[0;32m~/Desktop/Quantum Cryptography/Tesis/FramesQKD/LL20/../qkd.py\u001b[0m in \u001b[0;36mexecute_qkd\u001b[0;34m(Alice, Bob, pairs, DEBUG, depolarize_probability)\u001b[0m\n\u001b[1;32m      8\u001b[0m \u001b[0;34m\u001b[0m\u001b[0m\n\u001b[1;32m      9\u001b[0m     \u001b[0;31m# Measure each pair and retrieve double matchings\u001b[0m\u001b[0;34m\u001b[0m\u001b[0;34m\u001b[0m\u001b[0m\n\u001b[0;32m---> 10\u001b[0;31m     \u001b[0mdouble_matchings\u001b[0m \u001b[0;34m=\u001b[0m \u001b[0mbob\u001b[0m\u001b[0;34m.\u001b[0m\u001b[0mmeasure\u001b[0m\u001b[0;34m(\u001b[0m\u001b[0mpairs\u001b[0m\u001b[0;34m)\u001b[0m\u001b[0;34m\u001b[0m\u001b[0;34m\u001b[0m\u001b[0m\n\u001b[0m\u001b[1;32m     11\u001b[0m \u001b[0;34m\u001b[0m\u001b[0m\n\u001b[1;32m     12\u001b[0m     \u001b[0;31m# Verify that there's double matchings\u001b[0m\u001b[0;34m\u001b[0m\u001b[0;34m\u001b[0m\u001b[0m\n",
      "\u001b[0;32m~/Desktop/Quantum Cryptography/Tesis/FramesQKD/LL20/bob.py\u001b[0m in \u001b[0;36mmeasure\u001b[0;34m(self, pairs)\u001b[0m\n\u001b[1;32m     42\u001b[0m             \u001b[0mpairs\u001b[0m\u001b[0;34m[\u001b[0m\u001b[0mi\u001b[0m\u001b[0;34m]\u001b[0m\u001b[0;34m[\u001b[0m\u001b[0;36m1\u001b[0m\u001b[0;34m]\u001b[0m\u001b[0;34m.\u001b[0m\u001b[0mmeasure\u001b[0m\u001b[0;34m(\u001b[0m\u001b[0;36m0\u001b[0m\u001b[0;34m,\u001b[0m \u001b[0;36m0\u001b[0m\u001b[0;34m)\u001b[0m\u001b[0;34m\u001b[0m\u001b[0;34m\u001b[0m\u001b[0m\n\u001b[1;32m     43\u001b[0m \u001b[0;34m\u001b[0m\u001b[0m\n\u001b[0;32m---> 44\u001b[0;31m             \u001b[0mbits\u001b[0m \u001b[0;34m=\u001b[0m \u001b[0;34m''\u001b[0m\u001b[0;34m.\u001b[0m\u001b[0mjoin\u001b[0m\u001b[0;34m(\u001b[0m\u001b[0;34m[\u001b[0m \u001b[0mlist\u001b[0m\u001b[0;34m(\u001b[0m\u001b[0mself\u001b[0m\u001b[0;34m.\u001b[0m\u001b[0mbackend\u001b[0m\u001b[0;34m.\u001b[0m\u001b[0mrun\u001b[0m\u001b[0;34m(\u001b[0m\u001b[0mtranspile\u001b[0m\u001b[0;34m(\u001b[0m\u001b[0mcircuit\u001b[0m\u001b[0;34m,\u001b[0m \u001b[0mself\u001b[0m\u001b[0;34m.\u001b[0m\u001b[0mbackend\u001b[0m\u001b[0;34m)\u001b[0m\u001b[0;34m,\u001b[0m \u001b[0mnoise_model\u001b[0m \u001b[0;34m=\u001b[0m \u001b[0mnoise_model\u001b[0m\u001b[0;34m)\u001b[0m\u001b[0;34m.\u001b[0m\u001b[0mresult\u001b[0m\u001b[0;34m(\u001b[0m\u001b[0;34m)\u001b[0m\u001b[0;34m.\u001b[0m\u001b[0mget_counts\u001b[0m\u001b[0;34m(\u001b[0m\u001b[0;34m)\u001b[0m\u001b[0;34m.\u001b[0m\u001b[0mkeys\u001b[0m\u001b[0;34m(\u001b[0m\u001b[0;34m)\u001b[0m\u001b[0;34m)\u001b[0m\u001b[0;34m[\u001b[0m\u001b[0;36m0\u001b[0m\u001b[0;34m]\u001b[0m \u001b[0;32mfor\u001b[0m \u001b[0mcircuit\u001b[0m \u001b[0;32min\u001b[0m \u001b[0mpairs\u001b[0m\u001b[0;34m[\u001b[0m\u001b[0mi\u001b[0m\u001b[0;34m]\u001b[0m \u001b[0;34m]\u001b[0m\u001b[0;34m)\u001b[0m\u001b[0;34m\u001b[0m\u001b[0;34m\u001b[0m\u001b[0m\n\u001b[0m\u001b[1;32m     45\u001b[0m \u001b[0;34m\u001b[0m\u001b[0m\n\u001b[1;32m     46\u001b[0m             \u001b[0;32mif\u001b[0m \u001b[0mbits\u001b[0m\u001b[0;34m[\u001b[0m\u001b[0;36m0\u001b[0m\u001b[0;34m]\u001b[0m \u001b[0;34m==\u001b[0m \u001b[0mbits\u001b[0m\u001b[0;34m[\u001b[0m\u001b[0;36m1\u001b[0m\u001b[0;34m]\u001b[0m\u001b[0;34m:\u001b[0m \u001b[0mdouble_matchings\u001b[0m\u001b[0;34m.\u001b[0m\u001b[0mappend\u001b[0m\u001b[0;34m(\u001b[0m\u001b[0mi\u001b[0m\u001b[0;34m)\u001b[0m\u001b[0;34m\u001b[0m\u001b[0;34m\u001b[0m\u001b[0m\n",
      "\u001b[0;32m~/Desktop/Quantum Cryptography/Tesis/FramesQKD/LL20/bob.py\u001b[0m in \u001b[0;36m<listcomp>\u001b[0;34m(.0)\u001b[0m\n\u001b[1;32m     42\u001b[0m             \u001b[0mpairs\u001b[0m\u001b[0;34m[\u001b[0m\u001b[0mi\u001b[0m\u001b[0;34m]\u001b[0m\u001b[0;34m[\u001b[0m\u001b[0;36m1\u001b[0m\u001b[0;34m]\u001b[0m\u001b[0;34m.\u001b[0m\u001b[0mmeasure\u001b[0m\u001b[0;34m(\u001b[0m\u001b[0;36m0\u001b[0m\u001b[0;34m,\u001b[0m \u001b[0;36m0\u001b[0m\u001b[0;34m)\u001b[0m\u001b[0;34m\u001b[0m\u001b[0;34m\u001b[0m\u001b[0m\n\u001b[1;32m     43\u001b[0m \u001b[0;34m\u001b[0m\u001b[0m\n\u001b[0;32m---> 44\u001b[0;31m             \u001b[0mbits\u001b[0m \u001b[0;34m=\u001b[0m \u001b[0;34m''\u001b[0m\u001b[0;34m.\u001b[0m\u001b[0mjoin\u001b[0m\u001b[0;34m(\u001b[0m\u001b[0;34m[\u001b[0m \u001b[0mlist\u001b[0m\u001b[0;34m(\u001b[0m\u001b[0mself\u001b[0m\u001b[0;34m.\u001b[0m\u001b[0mbackend\u001b[0m\u001b[0;34m.\u001b[0m\u001b[0mrun\u001b[0m\u001b[0;34m(\u001b[0m\u001b[0mtranspile\u001b[0m\u001b[0;34m(\u001b[0m\u001b[0mcircuit\u001b[0m\u001b[0;34m,\u001b[0m \u001b[0mself\u001b[0m\u001b[0;34m.\u001b[0m\u001b[0mbackend\u001b[0m\u001b[0;34m)\u001b[0m\u001b[0;34m,\u001b[0m \u001b[0mnoise_model\u001b[0m \u001b[0;34m=\u001b[0m \u001b[0mnoise_model\u001b[0m\u001b[0;34m)\u001b[0m\u001b[0;34m.\u001b[0m\u001b[0mresult\u001b[0m\u001b[0;34m(\u001b[0m\u001b[0;34m)\u001b[0m\u001b[0;34m.\u001b[0m\u001b[0mget_counts\u001b[0m\u001b[0;34m(\u001b[0m\u001b[0;34m)\u001b[0m\u001b[0;34m.\u001b[0m\u001b[0mkeys\u001b[0m\u001b[0;34m(\u001b[0m\u001b[0;34m)\u001b[0m\u001b[0;34m)\u001b[0m\u001b[0;34m[\u001b[0m\u001b[0;36m0\u001b[0m\u001b[0;34m]\u001b[0m \u001b[0;32mfor\u001b[0m \u001b[0mcircuit\u001b[0m \u001b[0;32min\u001b[0m \u001b[0mpairs\u001b[0m\u001b[0;34m[\u001b[0m\u001b[0mi\u001b[0m\u001b[0;34m]\u001b[0m \u001b[0;34m]\u001b[0m\u001b[0;34m)\u001b[0m\u001b[0;34m\u001b[0m\u001b[0;34m\u001b[0m\u001b[0m\n\u001b[0m\u001b[1;32m     45\u001b[0m \u001b[0;34m\u001b[0m\u001b[0m\n\u001b[1;32m     46\u001b[0m             \u001b[0;32mif\u001b[0m \u001b[0mbits\u001b[0m\u001b[0;34m[\u001b[0m\u001b[0;36m0\u001b[0m\u001b[0;34m]\u001b[0m \u001b[0;34m==\u001b[0m \u001b[0mbits\u001b[0m\u001b[0;34m[\u001b[0m\u001b[0;36m1\u001b[0m\u001b[0;34m]\u001b[0m\u001b[0;34m:\u001b[0m \u001b[0mdouble_matchings\u001b[0m\u001b[0;34m.\u001b[0m\u001b[0mappend\u001b[0m\u001b[0;34m(\u001b[0m\u001b[0mi\u001b[0m\u001b[0;34m)\u001b[0m\u001b[0;34m\u001b[0m\u001b[0;34m\u001b[0m\u001b[0m\n",
      "\u001b[0;32m~/anaconda3/envs/sage/lib/python3.9/site-packages/qiskit/compiler/transpiler.py\u001b[0m in \u001b[0;36mtranspile\u001b[0;34m(circuits, backend, basis_gates, inst_map, coupling_map, backend_properties, initial_layout, layout_method, routing_method, translation_method, scheduling_method, instruction_durations, dt, approximation_degree, timing_constraints, seed_transpiler, optimization_level, callback, output_name, unitary_synthesis_method, unitary_synthesis_plugin_config, target, hls_config, init_method, optimization_method, ignore_backend_supplied_default_methods, num_processes)\u001b[0m\n\u001b[1;32m    417\u001b[0m         \u001b[0m_skip_target\u001b[0m\u001b[0;34m=\u001b[0m\u001b[0m_skip_target\u001b[0m\u001b[0;34m,\u001b[0m\u001b[0;34m\u001b[0m\u001b[0;34m\u001b[0m\u001b[0m\n\u001b[1;32m    418\u001b[0m     )\n\u001b[0;32m--> 419\u001b[0;31m     \u001b[0mout_circuits\u001b[0m \u001b[0;34m=\u001b[0m \u001b[0mpm\u001b[0m\u001b[0;34m.\u001b[0m\u001b[0mrun\u001b[0m\u001b[0;34m(\u001b[0m\u001b[0mcircuits\u001b[0m\u001b[0;34m,\u001b[0m \u001b[0mcallback\u001b[0m\u001b[0;34m=\u001b[0m\u001b[0mcallback\u001b[0m\u001b[0;34m,\u001b[0m \u001b[0mnum_processes\u001b[0m\u001b[0;34m=\u001b[0m\u001b[0mnum_processes\u001b[0m\u001b[0;34m)\u001b[0m\u001b[0;34m\u001b[0m\u001b[0;34m\u001b[0m\u001b[0m\n\u001b[0m\u001b[1;32m    420\u001b[0m     \u001b[0;32mfor\u001b[0m \u001b[0mname\u001b[0m\u001b[0;34m,\u001b[0m \u001b[0mcirc\u001b[0m \u001b[0;32min\u001b[0m \u001b[0mzip\u001b[0m\u001b[0;34m(\u001b[0m\u001b[0moutput_name\u001b[0m\u001b[0;34m,\u001b[0m \u001b[0mout_circuits\u001b[0m\u001b[0;34m)\u001b[0m\u001b[0;34m:\u001b[0m\u001b[0;34m\u001b[0m\u001b[0;34m\u001b[0m\u001b[0m\n\u001b[1;32m    421\u001b[0m         \u001b[0mcirc\u001b[0m\u001b[0;34m.\u001b[0m\u001b[0mname\u001b[0m \u001b[0;34m=\u001b[0m \u001b[0mname\u001b[0m\u001b[0;34m\u001b[0m\u001b[0;34m\u001b[0m\u001b[0m\n",
      "\u001b[0;32m~/anaconda3/envs/sage/lib/python3.9/site-packages/qiskit/transpiler/passmanager.py\u001b[0m in \u001b[0;36mrun\u001b[0;34m(self, circuits, output_name, callback, num_processes)\u001b[0m\n\u001b[1;32m    438\u001b[0m     ) -> _CircuitsT:\n\u001b[1;32m    439\u001b[0m         \u001b[0mself\u001b[0m\u001b[0;34m.\u001b[0m\u001b[0m_update_passmanager\u001b[0m\u001b[0;34m(\u001b[0m\u001b[0;34m)\u001b[0m\u001b[0;34m\u001b[0m\u001b[0;34m\u001b[0m\u001b[0m\n\u001b[0;32m--> 440\u001b[0;31m         \u001b[0;32mreturn\u001b[0m \u001b[0msuper\u001b[0m\u001b[0;34m(\u001b[0m\u001b[0;34m)\u001b[0m\u001b[0;34m.\u001b[0m\u001b[0mrun\u001b[0m\u001b[0;34m(\u001b[0m\u001b[0mcircuits\u001b[0m\u001b[0;34m,\u001b[0m \u001b[0moutput_name\u001b[0m\u001b[0;34m,\u001b[0m \u001b[0mcallback\u001b[0m\u001b[0;34m,\u001b[0m \u001b[0mnum_processes\u001b[0m\u001b[0;34m=\u001b[0m\u001b[0mnum_processes\u001b[0m\u001b[0;34m)\u001b[0m\u001b[0;34m\u001b[0m\u001b[0;34m\u001b[0m\u001b[0m\n\u001b[0m\u001b[1;32m    441\u001b[0m \u001b[0;34m\u001b[0m\u001b[0m\n\u001b[1;32m    442\u001b[0m     \u001b[0;32mdef\u001b[0m \u001b[0mto_flow_controller\u001b[0m\u001b[0;34m(\u001b[0m\u001b[0mself\u001b[0m\u001b[0;34m)\u001b[0m \u001b[0;34m->\u001b[0m \u001b[0mFlowControllerLinear\u001b[0m\u001b[0;34m:\u001b[0m\u001b[0;34m\u001b[0m\u001b[0;34m\u001b[0m\u001b[0m\n",
      "\u001b[0;32m~/anaconda3/envs/sage/lib/python3.9/site-packages/qiskit/transpiler/passmanager.py\u001b[0m in \u001b[0;36mwrapper\u001b[0;34m(*meth_args, **meth_kwargs)\u001b[0m\n\u001b[1;32m    461\u001b[0m     \u001b[0;32mdef\u001b[0m \u001b[0mwrapper\u001b[0m\u001b[0;34m(\u001b[0m\u001b[0;34m*\u001b[0m\u001b[0mmeth_args\u001b[0m\u001b[0;34m,\u001b[0m \u001b[0;34m**\u001b[0m\u001b[0mmeth_kwargs\u001b[0m\u001b[0;34m)\u001b[0m\u001b[0;34m:\u001b[0m\u001b[0;34m\u001b[0m\u001b[0;34m\u001b[0m\u001b[0m\n\u001b[1;32m    462\u001b[0m         \u001b[0;32mtry\u001b[0m\u001b[0;34m:\u001b[0m\u001b[0;34m\u001b[0m\u001b[0;34m\u001b[0m\u001b[0m\n\u001b[0;32m--> 463\u001b[0;31m             \u001b[0;32mreturn\u001b[0m \u001b[0mmeth\u001b[0m\u001b[0;34m(\u001b[0m\u001b[0;34m*\u001b[0m\u001b[0mmeth_args\u001b[0m\u001b[0;34m,\u001b[0m \u001b[0;34m**\u001b[0m\u001b[0mmeth_kwargs\u001b[0m\u001b[0;34m)\u001b[0m\u001b[0;34m\u001b[0m\u001b[0;34m\u001b[0m\u001b[0m\n\u001b[0m\u001b[1;32m    464\u001b[0m         \u001b[0;32mexcept\u001b[0m \u001b[0mPassManagerError\u001b[0m \u001b[0;32mas\u001b[0m \u001b[0mex\u001b[0m\u001b[0;34m:\u001b[0m\u001b[0;34m\u001b[0m\u001b[0;34m\u001b[0m\u001b[0m\n\u001b[1;32m    465\u001b[0m             \u001b[0;32mraise\u001b[0m \u001b[0mTranspilerError\u001b[0m\u001b[0;34m(\u001b[0m\u001b[0mex\u001b[0m\u001b[0;34m.\u001b[0m\u001b[0mmessage\u001b[0m\u001b[0;34m)\u001b[0m \u001b[0;32mfrom\u001b[0m \u001b[0mex\u001b[0m\u001b[0;34m\u001b[0m\u001b[0;34m\u001b[0m\u001b[0m\n",
      "\u001b[0;32m~/anaconda3/envs/sage/lib/python3.9/site-packages/qiskit/transpiler/passmanager.py\u001b[0m in \u001b[0;36mrun\u001b[0;34m(self, circuits, output_name, callback, num_processes)\u001b[0m\n\u001b[1;32m    223\u001b[0m             \u001b[0mcallback\u001b[0m \u001b[0;34m=\u001b[0m \u001b[0m_legacy_style_callback\u001b[0m\u001b[0;34m(\u001b[0m\u001b[0mcallback\u001b[0m\u001b[0;34m)\u001b[0m\u001b[0;34m\u001b[0m\u001b[0;34m\u001b[0m\u001b[0m\n\u001b[1;32m    224\u001b[0m \u001b[0;34m\u001b[0m\u001b[0m\n\u001b[0;32m--> 225\u001b[0;31m         return super().run(\n\u001b[0m\u001b[1;32m    226\u001b[0m             \u001b[0min_programs\u001b[0m\u001b[0;34m=\u001b[0m\u001b[0mcircuits\u001b[0m\u001b[0;34m,\u001b[0m\u001b[0;34m\u001b[0m\u001b[0;34m\u001b[0m\u001b[0m\n\u001b[1;32m    227\u001b[0m             \u001b[0mcallback\u001b[0m\u001b[0;34m=\u001b[0m\u001b[0mcallback\u001b[0m\u001b[0;34m,\u001b[0m\u001b[0;34m\u001b[0m\u001b[0;34m\u001b[0m\u001b[0m\n",
      "\u001b[0;32m~/anaconda3/envs/sage/lib/python3.9/site-packages/qiskit/passmanager/passmanager.py\u001b[0m in \u001b[0;36mrun\u001b[0;34m(self, in_programs, callback, num_processes, **kwargs)\u001b[0m\n\u001b[1;32m    229\u001b[0m         \u001b[0;31m# ourselves, since that can be quite expensive.\u001b[0m\u001b[0;34m\u001b[0m\u001b[0;34m\u001b[0m\u001b[0m\n\u001b[1;32m    230\u001b[0m         \u001b[0;32mif\u001b[0m \u001b[0mlen\u001b[0m\u001b[0;34m(\u001b[0m\u001b[0min_programs\u001b[0m\u001b[0;34m)\u001b[0m \u001b[0;34m==\u001b[0m \u001b[0;36m1\u001b[0m \u001b[0;32mor\u001b[0m \u001b[0;32mnot\u001b[0m \u001b[0mshould_run_in_parallel\u001b[0m\u001b[0;34m(\u001b[0m\u001b[0mnum_processes\u001b[0m\u001b[0;34m)\u001b[0m\u001b[0;34m:\u001b[0m\u001b[0;34m\u001b[0m\u001b[0;34m\u001b[0m\u001b[0m\n\u001b[0;32m--> 231\u001b[0;31m             out = [\n\u001b[0m\u001b[1;32m    232\u001b[0m                 \u001b[0m_run_workflow\u001b[0m\u001b[0;34m(\u001b[0m\u001b[0mprogram\u001b[0m\u001b[0;34m=\u001b[0m\u001b[0mprogram\u001b[0m\u001b[0;34m,\u001b[0m \u001b[0mpass_manager\u001b[0m\u001b[0;34m=\u001b[0m\u001b[0mself\u001b[0m\u001b[0;34m,\u001b[0m \u001b[0mcallback\u001b[0m\u001b[0;34m=\u001b[0m\u001b[0mcallback\u001b[0m\u001b[0;34m,\u001b[0m \u001b[0;34m**\u001b[0m\u001b[0mkwargs\u001b[0m\u001b[0;34m)\u001b[0m\u001b[0;34m\u001b[0m\u001b[0;34m\u001b[0m\u001b[0m\n\u001b[1;32m    233\u001b[0m                 \u001b[0;32mfor\u001b[0m \u001b[0mprogram\u001b[0m \u001b[0;32min\u001b[0m \u001b[0min_programs\u001b[0m\u001b[0;34m\u001b[0m\u001b[0;34m\u001b[0m\u001b[0m\n",
      "\u001b[0;32m~/anaconda3/envs/sage/lib/python3.9/site-packages/qiskit/passmanager/passmanager.py\u001b[0m in \u001b[0;36m<listcomp>\u001b[0;34m(.0)\u001b[0m\n\u001b[1;32m    230\u001b[0m         \u001b[0;32mif\u001b[0m \u001b[0mlen\u001b[0m\u001b[0;34m(\u001b[0m\u001b[0min_programs\u001b[0m\u001b[0;34m)\u001b[0m \u001b[0;34m==\u001b[0m \u001b[0;36m1\u001b[0m \u001b[0;32mor\u001b[0m \u001b[0;32mnot\u001b[0m \u001b[0mshould_run_in_parallel\u001b[0m\u001b[0;34m(\u001b[0m\u001b[0mnum_processes\u001b[0m\u001b[0;34m)\u001b[0m\u001b[0;34m:\u001b[0m\u001b[0;34m\u001b[0m\u001b[0;34m\u001b[0m\u001b[0m\n\u001b[1;32m    231\u001b[0m             out = [\n\u001b[0;32m--> 232\u001b[0;31m                 \u001b[0m_run_workflow\u001b[0m\u001b[0;34m(\u001b[0m\u001b[0mprogram\u001b[0m\u001b[0;34m=\u001b[0m\u001b[0mprogram\u001b[0m\u001b[0;34m,\u001b[0m \u001b[0mpass_manager\u001b[0m\u001b[0;34m=\u001b[0m\u001b[0mself\u001b[0m\u001b[0;34m,\u001b[0m \u001b[0mcallback\u001b[0m\u001b[0;34m=\u001b[0m\u001b[0mcallback\u001b[0m\u001b[0;34m,\u001b[0m \u001b[0;34m**\u001b[0m\u001b[0mkwargs\u001b[0m\u001b[0;34m)\u001b[0m\u001b[0;34m\u001b[0m\u001b[0;34m\u001b[0m\u001b[0m\n\u001b[0m\u001b[1;32m    233\u001b[0m                 \u001b[0;32mfor\u001b[0m \u001b[0mprogram\u001b[0m \u001b[0;32min\u001b[0m \u001b[0min_programs\u001b[0m\u001b[0;34m\u001b[0m\u001b[0;34m\u001b[0m\u001b[0m\n\u001b[1;32m    234\u001b[0m             ]\n",
      "\u001b[0;32m~/anaconda3/envs/sage/lib/python3.9/site-packages/qiskit/passmanager/passmanager.py\u001b[0m in \u001b[0;36m_run_workflow\u001b[0;34m(program, pass_manager, **kwargs)\u001b[0m\n\u001b[1;32m    290\u001b[0m         \u001b[0;34m**\u001b[0m\u001b[0mkwargs\u001b[0m\u001b[0;34m,\u001b[0m\u001b[0;34m\u001b[0m\u001b[0;34m\u001b[0m\u001b[0m\n\u001b[1;32m    291\u001b[0m     )\n\u001b[0;32m--> 292\u001b[0;31m     passmanager_ir, final_state = flow_controller.execute(\n\u001b[0m\u001b[1;32m    293\u001b[0m         \u001b[0mpassmanager_ir\u001b[0m\u001b[0;34m=\u001b[0m\u001b[0mpassmanager_ir\u001b[0m\u001b[0;34m,\u001b[0m\u001b[0;34m\u001b[0m\u001b[0;34m\u001b[0m\u001b[0m\n\u001b[1;32m    294\u001b[0m         state=PassManagerState(\n",
      "\u001b[0;32m~/anaconda3/envs/sage/lib/python3.9/site-packages/qiskit/passmanager/base_tasks.py\u001b[0m in \u001b[0;36mexecute\u001b[0;34m(self, passmanager_ir, state, callback)\u001b[0m\n\u001b[1;32m    216\u001b[0m             \u001b[0;32mreturn\u001b[0m \u001b[0mpassmanager_ir\u001b[0m\u001b[0;34m,\u001b[0m \u001b[0mstate\u001b[0m\u001b[0;34m\u001b[0m\u001b[0;34m\u001b[0m\u001b[0m\n\u001b[1;32m    217\u001b[0m         \u001b[0;32mwhile\u001b[0m \u001b[0;32mTrue\u001b[0m\u001b[0;34m:\u001b[0m\u001b[0;34m\u001b[0m\u001b[0;34m\u001b[0m\u001b[0m\n\u001b[0;32m--> 218\u001b[0;31m             passmanager_ir, state = next_task.execute(\n\u001b[0m\u001b[1;32m    219\u001b[0m                 \u001b[0mpassmanager_ir\u001b[0m\u001b[0;34m=\u001b[0m\u001b[0mpassmanager_ir\u001b[0m\u001b[0;34m,\u001b[0m\u001b[0;34m\u001b[0m\u001b[0;34m\u001b[0m\u001b[0m\n\u001b[1;32m    220\u001b[0m                 \u001b[0mstate\u001b[0m\u001b[0;34m=\u001b[0m\u001b[0mstate\u001b[0m\u001b[0;34m,\u001b[0m\u001b[0;34m\u001b[0m\u001b[0;34m\u001b[0m\u001b[0m\n",
      "\u001b[0;32m~/anaconda3/envs/sage/lib/python3.9/site-packages/qiskit/transpiler/basepasses.py\u001b[0m in \u001b[0;36mexecute\u001b[0;34m(self, passmanager_ir, state, callback)\u001b[0m\n\u001b[1;32m    193\u001b[0m         \u001b[0mcallback\u001b[0m\u001b[0;34m:\u001b[0m \u001b[0mCallable\u001b[0m \u001b[0;34m=\u001b[0m \u001b[0;32mNone\u001b[0m\u001b[0;34m,\u001b[0m\u001b[0;34m\u001b[0m\u001b[0;34m\u001b[0m\u001b[0m\n\u001b[1;32m    194\u001b[0m     ) -> tuple[PassManagerIR, PassManagerState]:\n\u001b[0;32m--> 195\u001b[0;31m         new_dag, state = super().execute(\n\u001b[0m\u001b[1;32m    196\u001b[0m             \u001b[0mpassmanager_ir\u001b[0m\u001b[0;34m=\u001b[0m\u001b[0mpassmanager_ir\u001b[0m\u001b[0;34m,\u001b[0m\u001b[0;34m\u001b[0m\u001b[0;34m\u001b[0m\u001b[0m\n\u001b[1;32m    197\u001b[0m             \u001b[0mstate\u001b[0m\u001b[0;34m=\u001b[0m\u001b[0mstate\u001b[0m\u001b[0;34m,\u001b[0m\u001b[0;34m\u001b[0m\u001b[0;34m\u001b[0m\u001b[0m\n",
      "\u001b[0;32m~/anaconda3/envs/sage/lib/python3.9/site-packages/qiskit/passmanager/base_tasks.py\u001b[0m in \u001b[0;36mexecute\u001b[0;34m(self, passmanager_ir, state, callback)\u001b[0m\n\u001b[1;32m     96\u001b[0m         \u001b[0;32mtry\u001b[0m\u001b[0;34m:\u001b[0m\u001b[0;34m\u001b[0m\u001b[0;34m\u001b[0m\u001b[0m\n\u001b[1;32m     97\u001b[0m             \u001b[0;32mif\u001b[0m \u001b[0mself\u001b[0m \u001b[0;32mnot\u001b[0m \u001b[0;32min\u001b[0m \u001b[0mstate\u001b[0m\u001b[0;34m.\u001b[0m\u001b[0mworkflow_status\u001b[0m\u001b[0;34m.\u001b[0m\u001b[0mcompleted_passes\u001b[0m\u001b[0;34m:\u001b[0m\u001b[0;34m\u001b[0m\u001b[0;34m\u001b[0m\u001b[0m\n\u001b[0;32m---> 98\u001b[0;31m                 \u001b[0mret\u001b[0m \u001b[0;34m=\u001b[0m \u001b[0mself\u001b[0m\u001b[0;34m.\u001b[0m\u001b[0mrun\u001b[0m\u001b[0;34m(\u001b[0m\u001b[0mpassmanager_ir\u001b[0m\u001b[0;34m)\u001b[0m\u001b[0;34m\u001b[0m\u001b[0;34m\u001b[0m\u001b[0m\n\u001b[0m\u001b[1;32m     99\u001b[0m                 \u001b[0mrun_state\u001b[0m \u001b[0;34m=\u001b[0m \u001b[0mRunState\u001b[0m\u001b[0;34m.\u001b[0m\u001b[0mSUCCESS\u001b[0m\u001b[0;34m\u001b[0m\u001b[0;34m\u001b[0m\u001b[0m\n\u001b[1;32m    100\u001b[0m             \u001b[0;32melse\u001b[0m\u001b[0;34m:\u001b[0m\u001b[0;34m\u001b[0m\u001b[0;34m\u001b[0m\u001b[0m\n",
      "\u001b[0;32m~/anaconda3/envs/sage/lib/python3.9/site-packages/qiskit/transpiler/passes/synthesis/high_level_synthesis.py\u001b[0m in \u001b[0;36mrun\u001b[0;34m(self, dag)\u001b[0m\n\u001b[1;32m    399\u001b[0m             )\n\u001b[1;32m    400\u001b[0m \u001b[0;34m\u001b[0m\u001b[0m\n\u001b[0;32m--> 401\u001b[0;31m             \u001b[0mdecomposition\u001b[0m\u001b[0;34m,\u001b[0m \u001b[0mmodified\u001b[0m \u001b[0;34m=\u001b[0m \u001b[0mself\u001b[0m\u001b[0;34m.\u001b[0m\u001b[0m_recursively_handle_op\u001b[0m\u001b[0;34m(\u001b[0m\u001b[0mnode\u001b[0m\u001b[0;34m.\u001b[0m\u001b[0mop\u001b[0m\u001b[0;34m,\u001b[0m \u001b[0mqubits\u001b[0m\u001b[0;34m)\u001b[0m\u001b[0;34m\u001b[0m\u001b[0;34m\u001b[0m\u001b[0m\n\u001b[0m\u001b[1;32m    402\u001b[0m \u001b[0;34m\u001b[0m\u001b[0m\n\u001b[1;32m    403\u001b[0m             \u001b[0;32mif\u001b[0m \u001b[0;32mnot\u001b[0m \u001b[0mmodified\u001b[0m\u001b[0;34m:\u001b[0m\u001b[0;34m\u001b[0m\u001b[0;34m\u001b[0m\u001b[0m\n",
      "\u001b[0;32m~/anaconda3/envs/sage/lib/python3.9/site-packages/qiskit/transpiler/passes/synthesis/high_level_synthesis.py\u001b[0m in \u001b[0;36m_recursively_handle_op\u001b[0;34m(self, op, qubits)\u001b[0m\n\u001b[1;32m    443\u001b[0m \u001b[0;34m\u001b[0m\u001b[0m\n\u001b[1;32m    444\u001b[0m         \u001b[0;31m# Try to apply plugin mechanism\u001b[0m\u001b[0;34m\u001b[0m\u001b[0;34m\u001b[0m\u001b[0m\n\u001b[0;32m--> 445\u001b[0;31m         \u001b[0mdecomposition\u001b[0m \u001b[0;34m=\u001b[0m \u001b[0mself\u001b[0m\u001b[0;34m.\u001b[0m\u001b[0m_synthesize_op_using_plugins\u001b[0m\u001b[0;34m(\u001b[0m\u001b[0mop\u001b[0m\u001b[0;34m,\u001b[0m \u001b[0mqubits\u001b[0m\u001b[0;34m)\u001b[0m\u001b[0;34m\u001b[0m\u001b[0;34m\u001b[0m\u001b[0m\n\u001b[0m\u001b[1;32m    446\u001b[0m         \u001b[0;32mif\u001b[0m \u001b[0mdecomposition\u001b[0m \u001b[0;32mis\u001b[0m \u001b[0;32mnot\u001b[0m \u001b[0;32mNone\u001b[0m\u001b[0;34m:\u001b[0m\u001b[0;34m\u001b[0m\u001b[0;34m\u001b[0m\u001b[0m\n\u001b[1;32m    447\u001b[0m             \u001b[0;32mreturn\u001b[0m \u001b[0mdecomposition\u001b[0m\u001b[0;34m,\u001b[0m \u001b[0;32mTrue\u001b[0m\u001b[0;34m\u001b[0m\u001b[0;34m\u001b[0m\u001b[0m\n",
      "\u001b[0;32m~/anaconda3/envs/sage/lib/python3.9/site-packages/qiskit/transpiler/passes/synthesis/high_level_synthesis.py\u001b[0m in \u001b[0;36m_synthesize_op_using_plugins\u001b[0;34m(self, op, qubits)\u001b[0m\n\u001b[1;32m    501\u001b[0m         \u001b[0mhls_plugin_manager\u001b[0m \u001b[0;34m=\u001b[0m \u001b[0mself\u001b[0m\u001b[0;34m.\u001b[0m\u001b[0mhls_plugin_manager\u001b[0m\u001b[0;34m\u001b[0m\u001b[0;34m\u001b[0m\u001b[0m\n\u001b[1;32m    502\u001b[0m \u001b[0;34m\u001b[0m\u001b[0m\n\u001b[0;32m--> 503\u001b[0;31m         \u001b[0;32mif\u001b[0m \u001b[0mop\u001b[0m\u001b[0;34m.\u001b[0m\u001b[0mname\u001b[0m \u001b[0;32min\u001b[0m \u001b[0mself\u001b[0m\u001b[0;34m.\u001b[0m\u001b[0mhls_config\u001b[0m\u001b[0;34m.\u001b[0m\u001b[0mmethods\u001b[0m\u001b[0;34m.\u001b[0m\u001b[0mkeys\u001b[0m\u001b[0;34m(\u001b[0m\u001b[0;34m)\u001b[0m\u001b[0;34m:\u001b[0m\u001b[0;34m\u001b[0m\u001b[0;34m\u001b[0m\u001b[0m\n\u001b[0m\u001b[1;32m    504\u001b[0m             \u001b[0;31m# the operation's name appears in the user-provided config,\u001b[0m\u001b[0;34m\u001b[0m\u001b[0;34m\u001b[0m\u001b[0m\n\u001b[1;32m    505\u001b[0m             \u001b[0;31m# we use the list of methods provided by the user\u001b[0m\u001b[0;34m\u001b[0m\u001b[0;34m\u001b[0m\u001b[0m\n",
      "\u001b[0;31mKeyboardInterrupt\u001b[0m: "
     ]
    }
   ],
   "source": [
    "VALID_SS = [\n",
    "    \"00,11\",\n",
    "    \"11,11\"\n",
    "]\n",
    "\n",
    "try:\n",
    "    df = pd.read_csv(\"results_error.csv\")\n",
    "except:\n",
    "    file = open(\"results_error.csv\", \"w\")\n",
    "    file.write(\"double_matchings,bits_recovered,bits,%\")\n",
    "    file.close()\n",
    "    df = pd.read_csv(\"results_error.csv\")\n",
    "\n",
    "while True:\n",
    "    pairs = randint(8, 256)\n",
    "    results = key_recovery_metrics(execute_qkd, Alice, Bob, pairs, attack, 2, VALID_SS, depolarize_probability = 1)\n",
    "    \n",
    "    if not results: continue\n",
    "\n",
    "    df.loc[len(df)] = [ len(results[\"double_matchings\"]), results[\"bits_recovered\"], results[\"bits\"], results[\"%\"] ]\n",
    "    \n",
    "    df.to_csv(\"results_error.csv\", index = False)"
   ]
  }
 ],
 "metadata": {
  "kernelspec": {
   "display_name": "Python 3 (ipykernel)",
   "language": "python",
   "name": "python3"
  },
  "language_info": {
   "codemirror_mode": {
    "name": "ipython",
    "version": 3
   },
   "file_extension": ".py",
   "mimetype": "text/x-python",
   "name": "python",
   "nbconvert_exporter": "python",
   "pygments_lexer": "ipython3",
   "version": "3.9.19"
  }
 },
 "nbformat": 4,
 "nbformat_minor": 5
}
